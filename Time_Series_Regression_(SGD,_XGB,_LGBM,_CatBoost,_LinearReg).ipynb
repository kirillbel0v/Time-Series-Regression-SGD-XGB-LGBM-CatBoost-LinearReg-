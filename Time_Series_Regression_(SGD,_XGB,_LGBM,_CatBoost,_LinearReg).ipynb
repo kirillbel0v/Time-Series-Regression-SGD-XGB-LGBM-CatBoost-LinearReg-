{
  "cells": [
    {
      "cell_type": "markdown",
      "metadata": {
        "toc": true,
        "id": "P9ELCmnH3-lX"
      },
      "source": [
        "<h1>Содержание<span class=\"tocSkip\"></span></h1>\n",
        "<div class=\"toc\"><ul class=\"toc-item\"><li><span><a href=\"#Подготовка\" data-toc-modified-id=\"Подготовка-1\"><span class=\"toc-item-num\">1&nbsp;&nbsp;</span>Подготовка</a></span></li><li><span><a href=\"#Анализ\" data-toc-modified-id=\"Анализ-2\"><span class=\"toc-item-num\">2&nbsp;&nbsp;</span>Анализ</a></span></li><li><span><a href=\"#Обучение\" data-toc-modified-id=\"Обучение-3\"><span class=\"toc-item-num\">3&nbsp;&nbsp;</span>Обучение</a></span><ul class=\"toc-item\"><li><span><a href=\"#LinearRegression\" data-toc-modified-id=\"LinearRegression-3.1\"><span class=\"toc-item-num\">3.1&nbsp;&nbsp;</span>LinearRegression</a></span></li><li><span><a href=\"#SGDRegressor\" data-toc-modified-id=\"SGDRegressor-3.2\"><span class=\"toc-item-num\">3.2&nbsp;&nbsp;</span>SGDRegressor</a></span></li><li><span><a href=\"#XGBRegressor\" data-toc-modified-id=\"XGBRegressor-3.3\"><span class=\"toc-item-num\">3.3&nbsp;&nbsp;</span>XGBRegressor</a></span></li><li><span><a href=\"#CatBoostRegressor\" data-toc-modified-id=\"CatBoostRegressor-3.4\"><span class=\"toc-item-num\">3.4&nbsp;&nbsp;</span>CatBoostRegressor</a></span></li><li><span><a href=\"#LGBMRegressor\" data-toc-modified-id=\"LGBMRegressor-3.5\"><span class=\"toc-item-num\">3.5&nbsp;&nbsp;</span>LGBMRegressor</a></span></li></ul></li><li><span><a href=\"#Тестирование\" data-toc-modified-id=\"Тестирование-4\"><span class=\"toc-item-num\">4&nbsp;&nbsp;</span>Тестирование</a></span><ul class=\"toc-item\"><li><span><a href=\"#LinearRegression\" data-toc-modified-id=\"LinearRegression-4.1\"><span class=\"toc-item-num\">4.1&nbsp;&nbsp;</span>LinearRegression</a></span></li><li><span><a href=\"#SGDRegressor\" data-toc-modified-id=\"SGDRegressor-4.2\"><span class=\"toc-item-num\">4.2&nbsp;&nbsp;</span>SGDRegressor</a></span></li><li><span><a href=\"#XGBRegressor\" data-toc-modified-id=\"XGBRegressor-4.3\"><span class=\"toc-item-num\">4.3&nbsp;&nbsp;</span>XGBRegressor</a></span></li><li><span><a href=\"#CatBoostRegressor\" data-toc-modified-id=\"CatBoostRegressor-4.4\"><span class=\"toc-item-num\">4.4&nbsp;&nbsp;</span>CatBoostRegressor</a></span></li><li><span><a href=\"#LGBMRegressor\" data-toc-modified-id=\"LGBMRegressor-4.5\"><span class=\"toc-item-num\">4.5&nbsp;&nbsp;</span>LGBMRegressor</a></span></li><li><span><a href=\"#Сводная-таблица\" data-toc-modified-id=\"Сводная-таблица-4.6\"><span class=\"toc-item-num\">4.6&nbsp;&nbsp;</span>Сводная таблица</a></span></li></ul></li><li><span><a href=\"#ИТОГ\" data-toc-modified-id=\"ИТОГ-5\"><span class=\"toc-item-num\">5&nbsp;&nbsp;</span>ИТОГ</a></span></li><li><span><a href=\"#Чек-лист-проверки\" data-toc-modified-id=\"Чек-лист-проверки-6\"><span class=\"toc-item-num\">6&nbsp;&nbsp;</span>Чек-лист проверки</a></span></li></ul></div>"
      ]
    },
    {
      "cell_type": "markdown",
      "metadata": {
        "id": "eVf5aItz3-lX"
      },
      "source": [
        "#  Прогнозирование заказов такси"
      ]
    },
    {
      "cell_type": "markdown",
      "metadata": {
        "id": "koAJZX3M3-lX"
      },
      "source": [
        "Компания «Чётенькое такси» собрала исторические данные о заказах такси в аэропортах. Чтобы привлекать больше водителей в период пиковой нагрузки, нужно спрогнозировать количество заказов такси на следующий час. Постройте модель для такого предсказания.\n",
        "\n",
        "Значение метрики *RMSE* на тестовой выборке должно быть не больше 48.\n",
        "\n",
        "Вам нужно:\n",
        "\n",
        "1. Загрузить данные и выполнить их ресемплирование по одному часу.\n",
        "2. Проанализировать данные.\n",
        "3. Обучить разные модели с различными гиперпараметрами. Сделать тестовую выборку размером 10% от исходных данных.\n",
        "4. Проверить данные на тестовой выборке и сделать выводы.\n",
        "\n",
        "\n",
        "Данные лежат в файле `taxi.csv`. Количество заказов находится в столбце `num_orders` (от англ. *number of orders*, «число заказов»)."
      ]
    },
    {
      "cell_type": "markdown",
      "metadata": {
        "id": "HbHu6GuT3-lX"
      },
      "source": [
        "## Подготовка"
      ]
    },
    {
      "cell_type": "markdown",
      "metadata": {
        "id": "EMpbc-9P3-lX"
      },
      "source": [
        "Подгружаем все необходимые библиотеки и инструменты:"
      ]
    },
    {
      "cell_type": "code",
      "execution_count": null,
      "metadata": {
        "id": "A1b6tJ1z3-lY"
      },
      "outputs": [],
      "source": [
        "import pandas as pd\n",
        "import numpy as np\n",
        "import matplotlib.pyplot as plt\n",
        "from statsmodels.tsa.seasonal import seasonal_decompose\n",
        "from sklearn.model_selection import train_test_split, cross_val_score\n",
        "from sklearn.preprocessing import StandardScaler\n",
        "from sklearn.metrics import mean_squared_error\n",
        "import warnings\n",
        "warnings.filterwarnings('ignore')\n",
        "\n",
        "from sklearn.linear_model import LinearRegression\n",
        "from sklearn.linear_model import SGDRegressor\n",
        "from xgboost import XGBRegressor\n",
        "from catboost import CatBoostRegressor\n",
        "from lightgbm import LGBMRegressor\n"
      ]
    },
    {
      "cell_type": "markdown",
      "metadata": {
        "id": "m3Y7jo9-3-lZ"
      },
      "source": [
        "Подгрузим датасет и сразу с помощью **parse_dates** переведем столбец **datetime** к формату DateTime:"
      ]
    },
    {
      "cell_type": "code",
      "execution_count": null,
      "metadata": {
        "id": "bYHtQarO3-la",
        "outputId": "72946e6f-169b-4349-c65c-4597a3f7602b"
      },
      "outputs": [
        {
          "data": {
            "text/html": [
              "<div>\n",
              "<style scoped>\n",
              "    .dataframe tbody tr th:only-of-type {\n",
              "        vertical-align: middle;\n",
              "    }\n",
              "\n",
              "    .dataframe tbody tr th {\n",
              "        vertical-align: top;\n",
              "    }\n",
              "\n",
              "    .dataframe thead th {\n",
              "        text-align: right;\n",
              "    }\n",
              "</style>\n",
              "<table border=\"1\" class=\"dataframe\">\n",
              "  <thead>\n",
              "    <tr style=\"text-align: right;\">\n",
              "      <th></th>\n",
              "      <th>num_orders</th>\n",
              "    </tr>\n",
              "    <tr>\n",
              "      <th>datetime</th>\n",
              "      <th></th>\n",
              "    </tr>\n",
              "  </thead>\n",
              "  <tbody>\n",
              "    <tr>\n",
              "      <th>2018-03-01 00:00:00</th>\n",
              "      <td>9</td>\n",
              "    </tr>\n",
              "    <tr>\n",
              "      <th>2018-03-01 00:10:00</th>\n",
              "      <td>14</td>\n",
              "    </tr>\n",
              "    <tr>\n",
              "      <th>2018-03-01 00:20:00</th>\n",
              "      <td>28</td>\n",
              "    </tr>\n",
              "    <tr>\n",
              "      <th>2018-03-01 00:30:00</th>\n",
              "      <td>20</td>\n",
              "    </tr>\n",
              "    <tr>\n",
              "      <th>2018-03-01 00:40:00</th>\n",
              "      <td>32</td>\n",
              "    </tr>\n",
              "    <tr>\n",
              "      <th>...</th>\n",
              "      <td>...</td>\n",
              "    </tr>\n",
              "    <tr>\n",
              "      <th>2018-08-31 23:10:00</th>\n",
              "      <td>32</td>\n",
              "    </tr>\n",
              "    <tr>\n",
              "      <th>2018-08-31 23:20:00</th>\n",
              "      <td>24</td>\n",
              "    </tr>\n",
              "    <tr>\n",
              "      <th>2018-08-31 23:30:00</th>\n",
              "      <td>27</td>\n",
              "    </tr>\n",
              "    <tr>\n",
              "      <th>2018-08-31 23:40:00</th>\n",
              "      <td>39</td>\n",
              "    </tr>\n",
              "    <tr>\n",
              "      <th>2018-08-31 23:50:00</th>\n",
              "      <td>53</td>\n",
              "    </tr>\n",
              "  </tbody>\n",
              "</table>\n",
              "<p>26496 rows × 1 columns</p>\n",
              "</div>"
            ],
            "text/plain": [
              "                     num_orders\n",
              "datetime                       \n",
              "2018-03-01 00:00:00           9\n",
              "2018-03-01 00:10:00          14\n",
              "2018-03-01 00:20:00          28\n",
              "2018-03-01 00:30:00          20\n",
              "2018-03-01 00:40:00          32\n",
              "...                         ...\n",
              "2018-08-31 23:10:00          32\n",
              "2018-08-31 23:20:00          24\n",
              "2018-08-31 23:30:00          27\n",
              "2018-08-31 23:40:00          39\n",
              "2018-08-31 23:50:00          53\n",
              "\n",
              "[26496 rows x 1 columns]"
            ]
          },
          "execution_count": 4,
          "metadata": {},
          "output_type": "execute_result"
        }
      ],
      "source": [
        "df = pd.read_csv('/datasets/taxi.csv', index_col=[0], parse_dates=[0])\n",
        "df"
      ]
    },
    {
      "cell_type": "code",
      "execution_count": null,
      "metadata": {
        "id": "TP8OBWvt3-lb",
        "outputId": "21d2d870-906b-4722-dccd-a1ff64d184a3"
      },
      "outputs": [
        {
          "name": "stdout",
          "output_type": "stream",
          "text": [
            "<class 'pandas.core.frame.DataFrame'>\n",
            "DatetimeIndex: 26496 entries, 2018-03-01 00:00:00 to 2018-08-31 23:50:00\n",
            "Data columns (total 1 columns):\n",
            " #   Column      Non-Null Count  Dtype\n",
            "---  ------      --------------  -----\n",
            " 0   num_orders  26496 non-null  int64\n",
            "dtypes: int64(1)\n",
            "memory usage: 414.0 KB\n"
          ]
        }
      ],
      "source": [
        "df.info()"
      ]
    },
    {
      "cell_type": "markdown",
      "metadata": {
        "id": "SgsdET6D3-lb"
      },
      "source": [
        "Отсортируем индексы по возрастанию даты:"
      ]
    },
    {
      "cell_type": "code",
      "execution_count": null,
      "metadata": {
        "id": "_EcTmZEz3-lb"
      },
      "outputs": [],
      "source": [
        "df.sort_index(inplace = True)"
      ]
    },
    {
      "cell_type": "markdown",
      "metadata": {
        "id": "Sy5pOXls3-lc"
      },
      "source": [
        "Проверим, в хронологическом ли порядке расположены даты и время, посмотрим атрибут индекса таблицы is_monotonic:"
      ]
    },
    {
      "cell_type": "code",
      "execution_count": null,
      "metadata": {
        "scrolled": true,
        "id": "UIPOXRlJ3-lc",
        "outputId": "d4cdae68-3a8c-48c1-ca5b-62bbde9988ad"
      },
      "outputs": [
        {
          "data": {
            "text/plain": [
              "True"
            ]
          },
          "execution_count": 7,
          "metadata": {},
          "output_type": "execute_result"
        }
      ],
      "source": [
        "df.index.is_monotonic"
      ]
    },
    {
      "cell_type": "markdown",
      "metadata": {
        "id": "wVL-vItF3-ld"
      },
      "source": [
        "Построим график временного ряда:"
      ]
    },
    {
      "cell_type": "code",
      "execution_count": null,
      "metadata": {
        "id": "4CITjnno3-ld",
        "outputId": "85397531-4cf9-4d63-a216-be5c3343c357"
      },
      "outputs": [
        {
          "data": {
            "image/png": "[encoded data removed]",
            "text/plain": [
              "<Figure size 864x360 with 1 Axes>"
            ]
          },
          "metadata": {
            "needs_background": "light"
          },
          "output_type": "display_data"
        }
      ],
      "source": [
        "df.plot(figsize=(12,5));"
      ]
    },
    {
      "cell_type": "markdown",
      "metadata": {
        "id": "hZE0WnRa3-ld"
      },
      "source": [
        "Проведем ресемплинг:"
      ]
    },
    {
      "cell_type": "code",
      "execution_count": null,
      "metadata": {
        "id": "nNP9w8VY3-ld",
        "outputId": "bb8bc480-1c4f-4143-d510-af47656de4ba"
      },
      "outputs": [
        {
          "data": {
            "text/html": [
              "<div>\n",
              "<style scoped>\n",
              "    .dataframe tbody tr th:only-of-type {\n",
              "        vertical-align: middle;\n",
              "    }\n",
              "\n",
              "    .dataframe tbody tr th {\n",
              "        vertical-align: top;\n",
              "    }\n",
              "\n",
              "    .dataframe thead th {\n",
              "        text-align: right;\n",
              "    }\n",
              "</style>\n",
              "<table border=\"1\" class=\"dataframe\">\n",
              "  <thead>\n",
              "    <tr style=\"text-align: right;\">\n",
              "      <th></th>\n",
              "      <th>num_orders</th>\n",
              "    </tr>\n",
              "    <tr>\n",
              "      <th>datetime</th>\n",
              "      <th></th>\n",
              "    </tr>\n",
              "  </thead>\n",
              "  <tbody>\n",
              "    <tr>\n",
              "      <th>2018-03-01 00:00:00</th>\n",
              "      <td>124</td>\n",
              "    </tr>\n",
              "    <tr>\n",
              "      <th>2018-03-01 01:00:00</th>\n",
              "      <td>85</td>\n",
              "    </tr>\n",
              "    <tr>\n",
              "      <th>2018-03-01 02:00:00</th>\n",
              "      <td>71</td>\n",
              "    </tr>\n",
              "    <tr>\n",
              "      <th>2018-03-01 03:00:00</th>\n",
              "      <td>66</td>\n",
              "    </tr>\n",
              "    <tr>\n",
              "      <th>2018-03-01 04:00:00</th>\n",
              "      <td>43</td>\n",
              "    </tr>\n",
              "    <tr>\n",
              "      <th>...</th>\n",
              "      <td>...</td>\n",
              "    </tr>\n",
              "    <tr>\n",
              "      <th>2018-08-31 19:00:00</th>\n",
              "      <td>136</td>\n",
              "    </tr>\n",
              "    <tr>\n",
              "      <th>2018-08-31 20:00:00</th>\n",
              "      <td>154</td>\n",
              "    </tr>\n",
              "    <tr>\n",
              "      <th>2018-08-31 21:00:00</th>\n",
              "      <td>159</td>\n",
              "    </tr>\n",
              "    <tr>\n",
              "      <th>2018-08-31 22:00:00</th>\n",
              "      <td>223</td>\n",
              "    </tr>\n",
              "    <tr>\n",
              "      <th>2018-08-31 23:00:00</th>\n",
              "      <td>205</td>\n",
              "    </tr>\n",
              "  </tbody>\n",
              "</table>\n",
              "<p>4416 rows × 1 columns</p>\n",
              "</div>"
            ],
            "text/plain": [
              "                     num_orders\n",
              "datetime                       \n",
              "2018-03-01 00:00:00         124\n",
              "2018-03-01 01:00:00          85\n",
              "2018-03-01 02:00:00          71\n",
              "2018-03-01 03:00:00          66\n",
              "2018-03-01 04:00:00          43\n",
              "...                         ...\n",
              "2018-08-31 19:00:00         136\n",
              "2018-08-31 20:00:00         154\n",
              "2018-08-31 21:00:00         159\n",
              "2018-08-31 22:00:00         223\n",
              "2018-08-31 23:00:00         205\n",
              "\n",
              "[4416 rows x 1 columns]"
            ]
          },
          "execution_count": 9,
          "metadata": {},
          "output_type": "execute_result"
        }
      ],
      "source": [
        "df = df.resample('1H').sum()\n",
        "df"
      ]
    },
    {
      "cell_type": "markdown",
      "metadata": {
        "id": "4y8qvscF3-le"
      },
      "source": [
        "Посмотрим на тренд, сезонность и остаток данных с помощью функции seasonal_decompose():\n",
        "\n"
      ]
    },
    {
      "cell_type": "code",
      "execution_count": null,
      "metadata": {
        "id": "KP_NulJr3-le"
      },
      "outputs": [],
      "source": [
        "decomposed = seasonal_decompose(df)"
      ]
    },
    {
      "cell_type": "code",
      "execution_count": null,
      "metadata": {
        "id": "MdYQ6_ht3-lg",
        "outputId": "5690c8fd-41bb-4794-cb56-394d7fd2ad7b"
      },
      "outputs": [
        {
          "data": {
            "image/png": "[encoded data removed]",
            "text/plain": [
              "<Figure size 864x576 with 3 Axes>"
            ]
          },
          "metadata": {
            "needs_background": "light"
          },
          "output_type": "display_data"
        }
      ],
      "source": [
        "plt.figure(figsize=(12, 8))\n",
        "plt.subplot(311)\n",
        "\n",
        "decomposed.trend.plot(ax=plt.gca())\n",
        "plt.title('Trend')\n",
        "plt.subplot(312)\n",
        "decomposed.seasonal['2018-03-01':'2018-03-03'].plot(ax=plt.gca())\n",
        "plt.title('Seasonality')\n",
        "plt.subplot(313)\n",
        "decomposed.resid.plot(ax=plt.gca())\n",
        "plt.title('Residuals')\n",
        "plt.tight_layout()"
      ]
    },
    {
      "cell_type": "markdown",
      "metadata": {
        "id": "-2tTKdQI3-lh"
      },
      "source": [
        "По графику сезонности можно отметить переодичность: пик загрузки приходится в полночь, минимум в 6 утра. Также наблюдается локальный максимум днем."
      ]
    },
    {
      "cell_type": "markdown",
      "metadata": {
        "id": "Q58oucRz3-li"
      },
      "source": [
        "**Вывод:**\n",
        "\n",
        "Среднее меняется с течением времени. Данные представляют собой нестационарный временной ряд. Прогнозировать такие ряды сложнее: свойства меняются слишком быстро."
      ]
    },
    {
      "cell_type": "markdown",
      "metadata": {
        "id": "tzBFMHEL3-lk"
      },
      "source": [
        "## Анализ"
      ]
    },
    {
      "cell_type": "markdown",
      "metadata": {
        "id": "XkRGwY_b3-lq"
      },
      "source": [
        "Напишем функцию make_features(), Чтобы ряд сделать стационарным, найдём разности его значений, чтобы прибавить к таблице новых календарные признаки: месяц, день, день недели и час. Также отстающие значения с помощью функции shift(): 'lag_1', 'lag_2' — и до величины max_lag, признаки Скользящая средняя и стандартное отклонение:"
      ]
    },
    {
      "cell_type": "code",
      "execution_count": null,
      "metadata": {
        "id": "-cNI4bTa3-lr"
      },
      "outputs": [],
      "source": [
        "#def make_features(data, max_lag, rolling_mean_size):\n",
        "    #data['difference'] = abs(data['num_orders'] - data['num_orders'].shift())\n",
        "    #data['month'] = data.index.month\n",
        "    #data['day'] = data.index.day\n",
        "    #data['dayofweek'] = data.index.dayofweek\n",
        "    #data['hour'] = data.index.hour\n",
        "\n",
        "    #for i in range(1, max_lag + 1):\n",
        "        #data['lag_' + str(i)] = data['num_orders'].shift(i)\n",
        "    #data['rolling_mean'] = data['num_orders'].shift().rolling(rolling_mean_size).mean()\n",
        "    #data['std'] = data['num_orders'].shift().rolling(rolling_mean_size).std()\n",
        "\n",
        "#make_features(df, 10, 10)"
      ]
    },
    {
      "cell_type": "code",
      "execution_count": null,
      "metadata": {
        "id": "qUTZhfgQ3-ls"
      },
      "outputs": [],
      "source": [
        "# создаём функцию\n",
        "def make_features(data, max_lag, rolling_mean_size):\n",
        "    data['dayofweek'] = data.index.dayofweek\n",
        "    data['hour'] = data.index.hour\n",
        "\n",
        "    for lag in range(1, max_lag + 1):\n",
        "        data['lag_{}'.format(lag)] = data['num_orders'].shift(lag)\n",
        "\n",
        "    data['rolling_mean'] = data['num_orders'].shift().rolling(rolling_mean_size).mean()\n",
        "\n",
        "make_features(df, 10, 10)"
      ]
    },
    {
      "cell_type": "code",
      "execution_count": null,
      "metadata": {
        "id": "5_O04n6-3-ls",
        "outputId": "c2fb057c-7ce9-487a-eae2-92e75b6cc4f5"
      },
      "outputs": [
        {
          "data": {
            "text/html": [
              "<div>\n",
              "<style scoped>\n",
              "    .dataframe tbody tr th:only-of-type {\n",
              "        vertical-align: middle;\n",
              "    }\n",
              "\n",
              "    .dataframe tbody tr th {\n",
              "        vertical-align: top;\n",
              "    }\n",
              "\n",
              "    .dataframe thead th {\n",
              "        text-align: right;\n",
              "    }\n",
              "</style>\n",
              "<table border=\"1\" class=\"dataframe\">\n",
              "  <thead>\n",
              "    <tr style=\"text-align: right;\">\n",
              "      <th></th>\n",
              "      <th>num_orders</th>\n",
              "      <th>dayofweek</th>\n",
              "      <th>hour</th>\n",
              "      <th>lag_1</th>\n",
              "      <th>lag_2</th>\n",
              "      <th>lag_3</th>\n",
              "      <th>lag_4</th>\n",
              "      <th>lag_5</th>\n",
              "      <th>lag_6</th>\n",
              "      <th>lag_7</th>\n",
              "      <th>lag_8</th>\n",
              "      <th>lag_9</th>\n",
              "      <th>lag_10</th>\n",
              "      <th>rolling_mean</th>\n",
              "    </tr>\n",
              "    <tr>\n",
              "      <th>datetime</th>\n",
              "      <th></th>\n",
              "      <th></th>\n",
              "      <th></th>\n",
              "      <th></th>\n",
              "      <th></th>\n",
              "      <th></th>\n",
              "      <th></th>\n",
              "      <th></th>\n",
              "      <th></th>\n",
              "      <th></th>\n",
              "      <th></th>\n",
              "      <th></th>\n",
              "      <th></th>\n",
              "      <th></th>\n",
              "    </tr>\n",
              "  </thead>\n",
              "  <tbody>\n",
              "    <tr>\n",
              "      <th>2018-03-01 00:00:00</th>\n",
              "      <td>124</td>\n",
              "      <td>3</td>\n",
              "      <td>0</td>\n",
              "      <td>NaN</td>\n",
              "      <td>NaN</td>\n",
              "      <td>NaN</td>\n",
              "      <td>NaN</td>\n",
              "      <td>NaN</td>\n",
              "      <td>NaN</td>\n",
              "      <td>NaN</td>\n",
              "      <td>NaN</td>\n",
              "      <td>NaN</td>\n",
              "      <td>NaN</td>\n",
              "      <td>NaN</td>\n",
              "    </tr>\n",
              "    <tr>\n",
              "      <th>2018-03-01 01:00:00</th>\n",
              "      <td>85</td>\n",
              "      <td>3</td>\n",
              "      <td>1</td>\n",
              "      <td>124.0</td>\n",
              "      <td>NaN</td>\n",
              "      <td>NaN</td>\n",
              "      <td>NaN</td>\n",
              "      <td>NaN</td>\n",
              "      <td>NaN</td>\n",
              "      <td>NaN</td>\n",
              "      <td>NaN</td>\n",
              "      <td>NaN</td>\n",
              "      <td>NaN</td>\n",
              "      <td>NaN</td>\n",
              "    </tr>\n",
              "    <tr>\n",
              "      <th>2018-03-01 02:00:00</th>\n",
              "      <td>71</td>\n",
              "      <td>3</td>\n",
              "      <td>2</td>\n",
              "      <td>85.0</td>\n",
              "      <td>124.0</td>\n",
              "      <td>NaN</td>\n",
              "      <td>NaN</td>\n",
              "      <td>NaN</td>\n",
              "      <td>NaN</td>\n",
              "      <td>NaN</td>\n",
              "      <td>NaN</td>\n",
              "      <td>NaN</td>\n",
              "      <td>NaN</td>\n",
              "      <td>NaN</td>\n",
              "    </tr>\n",
              "    <tr>\n",
              "      <th>2018-03-01 03:00:00</th>\n",
              "      <td>66</td>\n",
              "      <td>3</td>\n",
              "      <td>3</td>\n",
              "      <td>71.0</td>\n",
              "      <td>85.0</td>\n",
              "      <td>124.0</td>\n",
              "      <td>NaN</td>\n",
              "      <td>NaN</td>\n",
              "      <td>NaN</td>\n",
              "      <td>NaN</td>\n",
              "      <td>NaN</td>\n",
              "      <td>NaN</td>\n",
              "      <td>NaN</td>\n",
              "      <td>NaN</td>\n",
              "    </tr>\n",
              "    <tr>\n",
              "      <th>2018-03-01 04:00:00</th>\n",
              "      <td>43</td>\n",
              "      <td>3</td>\n",
              "      <td>4</td>\n",
              "      <td>66.0</td>\n",
              "      <td>71.0</td>\n",
              "      <td>85.0</td>\n",
              "      <td>124.0</td>\n",
              "      <td>NaN</td>\n",
              "      <td>NaN</td>\n",
              "      <td>NaN</td>\n",
              "      <td>NaN</td>\n",
              "      <td>NaN</td>\n",
              "      <td>NaN</td>\n",
              "      <td>NaN</td>\n",
              "    </tr>\n",
              "    <tr>\n",
              "      <th>...</th>\n",
              "      <td>...</td>\n",
              "      <td>...</td>\n",
              "      <td>...</td>\n",
              "      <td>...</td>\n",
              "      <td>...</td>\n",
              "      <td>...</td>\n",
              "      <td>...</td>\n",
              "      <td>...</td>\n",
              "      <td>...</td>\n",
              "      <td>...</td>\n",
              "      <td>...</td>\n",
              "      <td>...</td>\n",
              "      <td>...</td>\n",
              "      <td>...</td>\n",
              "    </tr>\n",
              "    <tr>\n",
              "      <th>2018-08-31 19:00:00</th>\n",
              "      <td>136</td>\n",
              "      <td>4</td>\n",
              "      <td>19</td>\n",
              "      <td>207.0</td>\n",
              "      <td>217.0</td>\n",
              "      <td>197.0</td>\n",
              "      <td>116.0</td>\n",
              "      <td>133.0</td>\n",
              "      <td>166.0</td>\n",
              "      <td>136.0</td>\n",
              "      <td>167.0</td>\n",
              "      <td>191.0</td>\n",
              "      <td>203.0</td>\n",
              "      <td>173.3</td>\n",
              "    </tr>\n",
              "    <tr>\n",
              "      <th>2018-08-31 20:00:00</th>\n",
              "      <td>154</td>\n",
              "      <td>4</td>\n",
              "      <td>20</td>\n",
              "      <td>136.0</td>\n",
              "      <td>207.0</td>\n",
              "      <td>217.0</td>\n",
              "      <td>197.0</td>\n",
              "      <td>116.0</td>\n",
              "      <td>133.0</td>\n",
              "      <td>166.0</td>\n",
              "      <td>136.0</td>\n",
              "      <td>167.0</td>\n",
              "      <td>191.0</td>\n",
              "      <td>166.6</td>\n",
              "    </tr>\n",
              "    <tr>\n",
              "      <th>2018-08-31 21:00:00</th>\n",
              "      <td>159</td>\n",
              "      <td>4</td>\n",
              "      <td>21</td>\n",
              "      <td>154.0</td>\n",
              "      <td>136.0</td>\n",
              "      <td>207.0</td>\n",
              "      <td>217.0</td>\n",
              "      <td>197.0</td>\n",
              "      <td>116.0</td>\n",
              "      <td>133.0</td>\n",
              "      <td>166.0</td>\n",
              "      <td>136.0</td>\n",
              "      <td>167.0</td>\n",
              "      <td>162.9</td>\n",
              "    </tr>\n",
              "    <tr>\n",
              "      <th>2018-08-31 22:00:00</th>\n",
              "      <td>223</td>\n",
              "      <td>4</td>\n",
              "      <td>22</td>\n",
              "      <td>159.0</td>\n",
              "      <td>154.0</td>\n",
              "      <td>136.0</td>\n",
              "      <td>207.0</td>\n",
              "      <td>217.0</td>\n",
              "      <td>197.0</td>\n",
              "      <td>116.0</td>\n",
              "      <td>133.0</td>\n",
              "      <td>166.0</td>\n",
              "      <td>136.0</td>\n",
              "      <td>162.1</td>\n",
              "    </tr>\n",
              "    <tr>\n",
              "      <th>2018-08-31 23:00:00</th>\n",
              "      <td>205</td>\n",
              "      <td>4</td>\n",
              "      <td>23</td>\n",
              "      <td>223.0</td>\n",
              "      <td>159.0</td>\n",
              "      <td>154.0</td>\n",
              "      <td>136.0</td>\n",
              "      <td>207.0</td>\n",
              "      <td>217.0</td>\n",
              "      <td>197.0</td>\n",
              "      <td>116.0</td>\n",
              "      <td>133.0</td>\n",
              "      <td>166.0</td>\n",
              "      <td>170.8</td>\n",
              "    </tr>\n",
              "  </tbody>\n",
              "</table>\n",
              "<p>4416 rows × 14 columns</p>\n",
              "</div>"
            ],
            "text/plain": [
              "                     num_orders  dayofweek  hour  lag_1  lag_2  lag_3  lag_4  \\\n",
              "datetime                                                                       \n",
              "2018-03-01 00:00:00         124          3     0    NaN    NaN    NaN    NaN   \n",
              "2018-03-01 01:00:00          85          3     1  124.0    NaN    NaN    NaN   \n",
              "2018-03-01 02:00:00          71          3     2   85.0  124.0    NaN    NaN   \n",
              "2018-03-01 03:00:00          66          3     3   71.0   85.0  124.0    NaN   \n",
              "2018-03-01 04:00:00          43          3     4   66.0   71.0   85.0  124.0   \n",
              "...                         ...        ...   ...    ...    ...    ...    ...   \n",
              "2018-08-31 19:00:00         136          4    19  207.0  217.0  197.0  116.0   \n",
              "2018-08-31 20:00:00         154          4    20  136.0  207.0  217.0  197.0   \n",
              "2018-08-31 21:00:00         159          4    21  154.0  136.0  207.0  217.0   \n",
              "2018-08-31 22:00:00         223          4    22  159.0  154.0  136.0  207.0   \n",
              "2018-08-31 23:00:00         205          4    23  223.0  159.0  154.0  136.0   \n",
              "\n",
              "                     lag_5  lag_6  lag_7  lag_8  lag_9  lag_10  rolling_mean  \n",
              "datetime                                                                      \n",
              "2018-03-01 00:00:00    NaN    NaN    NaN    NaN    NaN     NaN           NaN  \n",
              "2018-03-01 01:00:00    NaN    NaN    NaN    NaN    NaN     NaN           NaN  \n",
              "2018-03-01 02:00:00    NaN    NaN    NaN    NaN    NaN     NaN           NaN  \n",
              "2018-03-01 03:00:00    NaN    NaN    NaN    NaN    NaN     NaN           NaN  \n",
              "2018-03-01 04:00:00    NaN    NaN    NaN    NaN    NaN     NaN           NaN  \n",
              "...                    ...    ...    ...    ...    ...     ...           ...  \n",
              "2018-08-31 19:00:00  133.0  166.0  136.0  167.0  191.0   203.0         173.3  \n",
              "2018-08-31 20:00:00  116.0  133.0  166.0  136.0  167.0   191.0         166.6  \n",
              "2018-08-31 21:00:00  197.0  116.0  133.0  166.0  136.0   167.0         162.9  \n",
              "2018-08-31 22:00:00  217.0  197.0  116.0  133.0  166.0   136.0         162.1  \n",
              "2018-08-31 23:00:00  207.0  217.0  197.0  116.0  133.0   166.0         170.8  \n",
              "\n",
              "[4416 rows x 14 columns]"
            ]
          },
          "execution_count": 15,
          "metadata": {},
          "output_type": "execute_result"
        }
      ],
      "source": [
        "df"
      ]
    },
    {
      "cell_type": "markdown",
      "metadata": {
        "id": "LDhjUzpj3-ls"
      },
      "source": [
        "Разделим датафрейм на 3 части: обучающую, вилидационную и тестовую выбороки в пропорциях 3:1:1, используя функцию train_test_split из библиетеки sklearn.model_selection и удалим пропуски в тестовой выборке, с помощью .dropna()"
      ]
    },
    {
      "cell_type": "code",
      "execution_count": null,
      "metadata": {
        "id": "gj6xJ2Oy3-ls"
      },
      "outputs": [],
      "source": [
        "#train, test = train_test_split(df, shuffle=False, test_size=0.2)\n",
        "#train, valid = train_test_split(train, shuffle=False, test_size=0.25)\n",
        "\n",
        "#train = train.dropna()"
      ]
    },
    {
      "cell_type": "code",
      "execution_count": null,
      "metadata": {
        "id": "BhT9XUUE3-lt"
      },
      "outputs": [],
      "source": [
        "train, test = train_test_split(df, shuffle = False, test_size = 0.1)\n",
        "train, valid = train_test_split(train, shuffle = False, test_size = 0.15)\n",
        "\n",
        "train = train.dropna()"
      ]
    },
    {
      "cell_type": "code",
      "execution_count": null,
      "metadata": {
        "id": "eLIPngUq3-lt",
        "outputId": "b5cc35db-a4b3-44d5-f892-5055c912271d"
      },
      "outputs": [
        {
          "data": {
            "text/plain": [
              "((3367, 14), (597, 14), (442, 14))"
            ]
          },
          "execution_count": 18,
          "metadata": {},
          "output_type": "execute_result"
        }
      ],
      "source": [
        "train.shape, valid.shape, test.shape"
      ]
    },
    {
      "cell_type": "markdown",
      "metadata": {
        "id": "GK9T3bgL3-lu"
      },
      "source": [
        "Разделим выборки на features - признаки и target — целевой признак.\n",
        "\n"
      ]
    },
    {
      "cell_type": "code",
      "execution_count": null,
      "metadata": {
        "id": "6NRBeb_S3-lu"
      },
      "outputs": [],
      "source": [
        "train_features = train.drop(['num_orders'], axis=1)\n",
        "valid_features = valid.drop(['num_orders'], axis=1)\n",
        "test_features = test.drop(['num_orders'], axis=1)\n",
        "\n",
        "train_target = train['num_orders']\n",
        "valid_target = valid['num_orders']\n",
        "test_target = test['num_orders']\n"
      ]
    },
    {
      "cell_type": "markdown",
      "metadata": {
        "id": "Wh88Rmvb3-lu"
      },
      "source": [
        "Для того, чтобы отмаштабировать признаки, воспользуемся одним из методов масштабирования — стандартизации данных.\n",
        "В sklearn есть отдельная структура для стандартизации данных — StandardScaler\n",
        "Преобразуем обучающую,валидационную и тестовую выборки функцией transform()."
      ]
    },
    {
      "cell_type": "code",
      "execution_count": null,
      "metadata": {
        "id": "M9XLjlVO3-lu"
      },
      "outputs": [],
      "source": [
        "scaler = StandardScaler()\n",
        "scaler.fit(train_features)\n",
        "\n",
        "train_features = scaler.transform(train_features)\n",
        "valid_features = scaler.transform(valid_features)\n",
        "test_features = scaler.transform(test_features)"
      ]
    },
    {
      "cell_type": "markdown",
      "metadata": {
        "id": "IUdFTeHE3-lu"
      },
      "source": [
        "Напишем функцию оценки качества моделей RMSE:"
      ]
    },
    {
      "cell_type": "code",
      "execution_count": null,
      "metadata": {
        "id": "Uik4Xi7B3-lu"
      },
      "outputs": [],
      "source": [
        "#def RMSE(target, predict):\n",
        "    #RMSE = mean_squared_error(target, predict) ** 0.5\n",
        "    #return RMSE\n"
      ]
    },
    {
      "cell_type": "code",
      "execution_count": null,
      "metadata": {
        "id": "KfNF0ray3-lv"
      },
      "outputs": [],
      "source": [
        "def RMSE(target, predicted):\n",
        "    RMSE = mean_squared_error(target, predicted, squared = False)\n",
        "    return RMSE"
      ]
    },
    {
      "cell_type": "markdown",
      "metadata": {
        "id": "M9Mqnjw93-lv"
      },
      "source": [
        "**Вывод:**\n",
        "\n",
        "Привели временной ряд к стационарному, используя разницу между текущим и предыдущим значениями. Такой временной ряд проще прогнозировать.\n",
        "Добавили новые признаки для обучения моделей. Это позволит моделям искать взаимосвязи в данных и лучше обучаться."
      ]
    },
    {
      "cell_type": "markdown",
      "metadata": {
        "id": "0lujDgEC3-lv"
      },
      "source": [
        "## Обучение"
      ]
    },
    {
      "cell_type": "markdown",
      "metadata": {
        "id": "UwrfmfAl3-lv"
      },
      "source": [
        "Обучим следующие модели для предсказания:\n",
        "\n",
        "* линейную регресиию **LinearRegression**\n",
        "* модель стохастического градиентного спуска **SGDRegressor**\n",
        "* модель градиентного бустинга **XGBRegressor**\n",
        "* модель градиентного бустинга **CatBoostRegressor**\n",
        "* модель градиентного бустинга **LGBMRegressor**"
      ]
    },
    {
      "cell_type": "markdown",
      "metadata": {
        "id": "OcAKBn4f3-lv"
      },
      "source": [
        "Обучать модели и тюнить гиперпараметры будем на обучающей выборке, делать финальное обучение на обучающей и валидационной выборке, чтобы модель обучилась на расширенном объеме данных и смогла сделалать лучше предсказания на тестовой выборке."
      ]
    },
    {
      "cell_type": "markdown",
      "metadata": {
        "id": "bGKlHGU-3-lv"
      },
      "source": [
        "Запишем объединенные выборки в переменные **train_valid_features** и **train_valid_target**:"
      ]
    },
    {
      "cell_type": "code",
      "execution_count": null,
      "metadata": {
        "id": "2SSaElhl3-lv",
        "outputId": "3440fafd-e610-4aed-d518-ade502988292"
      },
      "outputs": [
        {
          "data": {
            "text/plain": [
              "((3964, 13), (3964,))"
            ]
          },
          "execution_count": 23,
          "metadata": {},
          "output_type": "execute_result"
        }
      ],
      "source": [
        "train_valid_features = np.vstack((train_features, valid_features))\n",
        "train_valid_target = train_target.append(valid_target)\n",
        "train_valid_features.shape, train_valid_target.shape\n"
      ]
    },
    {
      "cell_type": "markdown",
      "metadata": {
        "id": "pZBvEu9K3-lw"
      },
      "source": [
        "### LinearRegression"
      ]
    },
    {
      "cell_type": "code",
      "execution_count": null,
      "metadata": {
        "id": "C19n6DOe3-ly",
        "outputId": "922570b6-c7b2-48b6-80d9-4f75abe90daa"
      },
      "outputs": [
        {
          "name": "stdout",
          "output_type": "stream",
          "text": [
            "CPU times: user 98.6 ms, sys: 218 ms, total: 316 ms\n",
            "Wall time: 240 ms\n"
          ]
        }
      ],
      "source": [
        "%%time\n",
        "LinearReg_model = LinearRegression()\n",
        "\n",
        "cv_RMSE_LR = (cross_val_score(LinearReg_model,\n",
        "                             train_valid_features,\n",
        "                             train_valid_target,\n",
        "                             cv = 5,\n",
        "                             scoring = 'neg_mean_squared_error').mean() * -1) ** 0.5\n",
        "\n"
      ]
    },
    {
      "cell_type": "code",
      "execution_count": null,
      "metadata": {
        "id": "w-40o03z3-ly",
        "outputId": "1e99d008-b8a2-4590-b8be-529caf169c87"
      },
      "outputs": [
        {
          "name": "stdout",
          "output_type": "stream",
          "text": [
            "RMSE на валидационной выборке:  31.787344189312837\n"
          ]
        }
      ],
      "source": [
        "print('RMSE на валидационной выборке: ', cv_RMSE_LR)\n"
      ]
    },
    {
      "cell_type": "markdown",
      "metadata": {
        "id": "RyFpLTw83-ly"
      },
      "source": [
        "### SGDRegressor"
      ]
    },
    {
      "cell_type": "code",
      "execution_count": null,
      "metadata": {
        "id": "pNgZFYom3-ly"
      },
      "outputs": [],
      "source": [
        "#from sklearn.linear_model import SGDRegressor"
      ]
    },
    {
      "cell_type": "code",
      "execution_count": null,
      "metadata": {
        "id": "Ay2LUrtD3-lz",
        "outputId": "82cff71c-f866-45d9-8037-77c241cbfa76"
      },
      "outputs": [
        {
          "data": {
            "text/plain": [
              "SGDRegressor(random_state=12345, shuffle=False)"
            ]
          },
          "execution_count": 121,
          "metadata": {},
          "output_type": "execute_result"
        }
      ],
      "source": [
        "SGD_LinearReg_model = SGDRegressor(random_state=12345, shuffle=False)\n",
        "SGD_LinearReg_model"
      ]
    },
    {
      "cell_type": "markdown",
      "metadata": {
        "id": "r6jTQM4S3-lz"
      },
      "source": [
        "Добавим сетку гиперпараметров:"
      ]
    },
    {
      "cell_type": "code",
      "execution_count": null,
      "metadata": {
        "id": "yaYoywf83-lz"
      },
      "outputs": [],
      "source": [
        "param_grid = {'alpha' : [0.0001, 0.001],\n",
        "              'max_iter': [1e3, 1e4, 1e5],\n",
        "              'eta0': [0.1, 0.01, 0.001]}"
      ]
    },
    {
      "cell_type": "code",
      "execution_count": null,
      "metadata": {
        "id": "bSpqKg1E3-lz",
        "outputId": "47f0aab7-a153-42bc-e7d6-a97a56a082e6"
      },
      "outputs": [
        {
          "name": "stdout",
          "output_type": "stream",
          "text": [
            "alpha = 0.0001 , max_iter = 1000.0, eta0 = 0.1, RMSE на валидационной выборке: 40.42\n",
            "alpha = 0.0001 , max_iter = 1000.0, eta0 = 0.01, RMSE на валидационной выборке: 40.32\n",
            "alpha = 0.0001 , max_iter = 1000.0, eta0 = 0.001, RMSE на валидационной выборке: 41.24\n",
            "alpha = 0.0001 , max_iter = 10000.0, eta0 = 0.1, RMSE на валидационной выборке: 40.42\n",
            "alpha = 0.0001 , max_iter = 10000.0, eta0 = 0.01, RMSE на валидационной выборке: 40.32\n",
            "alpha = 0.0001 , max_iter = 10000.0, eta0 = 0.001, RMSE на валидационной выборке: 41.24\n",
            "alpha = 0.0001 , max_iter = 100000.0, eta0 = 0.1, RMSE на валидационной выборке: 40.42\n",
            "alpha = 0.0001 , max_iter = 100000.0, eta0 = 0.01, RMSE на валидационной выборке: 40.32\n",
            "alpha = 0.0001 , max_iter = 100000.0, eta0 = 0.001, RMSE на валидационной выборке: 41.24\n",
            "alpha = 0.001 , max_iter = 1000.0, eta0 = 0.1, RMSE на валидационной выборке: 40.42\n",
            "alpha = 0.001 , max_iter = 1000.0, eta0 = 0.01, RMSE на валидационной выборке: 40.32\n",
            "alpha = 0.001 , max_iter = 1000.0, eta0 = 0.001, RMSE на валидационной выборке: 41.24\n",
            "alpha = 0.001 , max_iter = 10000.0, eta0 = 0.1, RMSE на валидационной выборке: 40.42\n",
            "alpha = 0.001 , max_iter = 10000.0, eta0 = 0.01, RMSE на валидационной выборке: 40.32\n",
            "alpha = 0.001 , max_iter = 10000.0, eta0 = 0.001, RMSE на валидационной выборке: 41.24\n",
            "alpha = 0.001 , max_iter = 100000.0, eta0 = 0.1, RMSE на валидационной выборке: 40.42\n",
            "alpha = 0.001 , max_iter = 100000.0, eta0 = 0.01, RMSE на валидационной выборке: 40.32\n",
            "alpha = 0.001 , max_iter = 100000.0, eta0 = 0.001, RMSE на валидационной выборке: 41.24\n",
            "CPU times: user 1.25 s, sys: 2.12 ms, total: 1.26 s\n",
            "Wall time: 1.26 s\n"
          ]
        }
      ],
      "source": [
        "%%time\n",
        "for i in param_grid['alpha']:\n",
        "    for j in param_grid['max_iter']:\n",
        "        for g in param_grid['eta0']:\n",
        "            SGD_LinearReg_model = SGDRegressor(random_state=12345, shuffle=False, alpha=i, max_iter=j, eta0=g)\n",
        "            SGD_LinearReg_model.fit(train_features, train_target)\n",
        "            pred_valid = SGD_LinearReg_model.predict(valid_features)\n",
        "            print('alpha = {} , max_iter = {}, eta0 = {}, RMSE на валидационной выборке: {}'\n",
        "                  .format(i, j, g, RMSE(valid_target, pred_valid).round(2)))"
      ]
    },
    {
      "cell_type": "markdown",
      "metadata": {
        "id": "tm9fPIrQ3-l0"
      },
      "source": [
        "Обучим модель на обучающей выборке с найденными гиперпараметрами, сделаем предсказания на валидационной:"
      ]
    },
    {
      "cell_type": "code",
      "execution_count": null,
      "metadata": {
        "id": "ZgCEnWuu3-l0"
      },
      "outputs": [],
      "source": [
        "SGD_LinearReg_model = SGDRegressor(alpha = 0.0001 , max_iter = 1000.0, eta0 = 0.1, shuffle=False, random_state=12345)\n"
      ]
    },
    {
      "cell_type": "code",
      "execution_count": null,
      "metadata": {
        "id": "EVCB3pkF3-l0"
      },
      "outputs": [],
      "source": [
        "#%%time\n",
        "#SGD_LinearReg_model.fit(train_valid_features, train_valid_target)"
      ]
    },
    {
      "cell_type": "code",
      "execution_count": null,
      "metadata": {
        "scrolled": true,
        "id": "CNgcIQoE3-l1",
        "outputId": "0ad82470-05ef-4d3c-cdb3-9c7fe02b514d"
      },
      "outputs": [
        {
          "name": "stdout",
          "output_type": "stream",
          "text": [
            "CPU times: user 188 ms, sys: 0 ns, total: 188 ms\n",
            "Wall time: 186 ms\n"
          ]
        },
        {
          "data": {
            "text/plain": [
              "SGDRegressor(eta0=0.1, max_iter=1000.0, random_state=12345, shuffle=False)"
            ]
          },
          "execution_count": 128,
          "metadata": {},
          "output_type": "execute_result"
        }
      ],
      "source": [
        "%%time\n",
        "SGD_LinearReg_model.fit(train_features, train_target)"
      ]
    },
    {
      "cell_type": "markdown",
      "metadata": {
        "id": "oWzULzIY3-l1"
      },
      "source": [
        "### XGBRegressor"
      ]
    },
    {
      "cell_type": "code",
      "execution_count": null,
      "metadata": {
        "id": "__JdbbI23-l1"
      },
      "outputs": [],
      "source": [
        "#from xgboost import XGBRegressor"
      ]
    },
    {
      "cell_type": "code",
      "execution_count": null,
      "metadata": {
        "id": "nySLpo8R3-l2",
        "outputId": "2cf0f195-2ca7-4c49-aaa3-b07db793975c"
      },
      "outputs": [
        {
          "data": {
            "text/plain": [
              "XGBRegressor(base_score=None, booster=None, colsample_bylevel=None,\n",
              "             colsample_bynode=None, colsample_bytree=None,\n",
              "             enable_categorical=False, gamma=None, gpu_id=None,\n",
              "             importance_type=None, interaction_constraints=None,\n",
              "             learning_rate=None, max_delta_step=None, max_depth=None,\n",
              "             min_child_weight=None, missing=nan, monotone_constraints=None,\n",
              "             n_estimators=100, n_jobs=-1, num_parallel_tree=None,\n",
              "             predictor=None, random_state=None, reg_alpha=None, reg_lambda=None,\n",
              "             scale_pos_weight=None, subsample=None, tree_method=None,\n",
              "             validate_parameters=None, verbosity=0)"
            ]
          },
          "execution_count": 130,
          "metadata": {},
          "output_type": "execute_result"
        }
      ],
      "source": [
        "XGBRegressor_model = XGBRegressor(n_jobs=-1, verbosity=0)\n",
        "XGBRegressor_model"
      ]
    },
    {
      "cell_type": "code",
      "execution_count": null,
      "metadata": {
        "id": "br1AczWQ3-l2"
      },
      "outputs": [],
      "source": [
        "param_grid = {'max_depth': [2, 4, 6],\n",
        "              'n_estimators': [50, 100, 200],\n",
        "              'learning_rate': [0.1, 0.3, 0.5]}"
      ]
    },
    {
      "cell_type": "code",
      "execution_count": null,
      "metadata": {
        "collapsed": true,
        "id": "3oCUtIBD3-l2",
        "outputId": "c92aee96-a64e-4d9b-ed13-c154ac49ab30"
      },
      "outputs": [
        {
          "name": "stdout",
          "output_type": "stream",
          "text": [
            "max_depth = 2 , n_estimators = 50, learning_rate = 0.1, RMSE на валидационной выборке: 38.64\n",
            "max_depth = 2 , n_estimators = 50, learning_rate = 0.3, RMSE на валидационной выборке: 33.22\n",
            "max_depth = 2 , n_estimators = 50, learning_rate = 0.5, RMSE на валидационной выборке: 32.95\n",
            "max_depth = 2 , n_estimators = 100, learning_rate = 0.1, RMSE на валидационной выборке: 35.13\n",
            "max_depth = 2 , n_estimators = 100, learning_rate = 0.3, RMSE на валидационной выборке: 32.04\n",
            "max_depth = 2 , n_estimators = 100, learning_rate = 0.5, RMSE на валидационной выборке: 33.04\n",
            "max_depth = 2 , n_estimators = 200, learning_rate = 0.1, RMSE на валидационной выборке: 33.16\n",
            "max_depth = 2 , n_estimators = 200, learning_rate = 0.3, RMSE на валидационной выборке: 32.29\n",
            "max_depth = 2 , n_estimators = 200, learning_rate = 0.5, RMSE на валидационной выборке: 33.15\n",
            "max_depth = 4 , n_estimators = 50, learning_rate = 0.1, RMSE на валидационной выборке: 34.05\n",
            "max_depth = 4 , n_estimators = 50, learning_rate = 0.3, RMSE на валидационной выборке: 32.54\n",
            "max_depth = 4 , n_estimators = 50, learning_rate = 0.5, RMSE на валидационной выборке: 33.7\n",
            "max_depth = 4 , n_estimators = 100, learning_rate = 0.1, RMSE на валидационной выборке: 32.67\n",
            "max_depth = 4 , n_estimators = 100, learning_rate = 0.3, RMSE на валидационной выборке: 32.87\n",
            "max_depth = 4 , n_estimators = 100, learning_rate = 0.5, RMSE на валидационной выборке: 34.44\n",
            "max_depth = 4 , n_estimators = 200, learning_rate = 0.1, RMSE на валидационной выборке: 32.08\n",
            "max_depth = 4 , n_estimators = 200, learning_rate = 0.3, RMSE на валидационной выборке: 33.02\n",
            "max_depth = 4 , n_estimators = 200, learning_rate = 0.5, RMSE на валидационной выборке: 34.83\n",
            "max_depth = 6 , n_estimators = 50, learning_rate = 0.1, RMSE на валидационной выборке: 33.23\n",
            "max_depth = 6 , n_estimators = 50, learning_rate = 0.3, RMSE на валидационной выборке: 33.96\n",
            "max_depth = 6 , n_estimators = 50, learning_rate = 0.5, RMSE на валидационной выборке: 32.43\n",
            "max_depth = 6 , n_estimators = 100, learning_rate = 0.1, RMSE на валидационной выборке: 32.6\n",
            "max_depth = 6 , n_estimators = 100, learning_rate = 0.3, RMSE на валидационной выборке: 34.11\n",
            "max_depth = 6 , n_estimators = 100, learning_rate = 0.5, RMSE на валидационной выборке: 32.67\n",
            "max_depth = 6 , n_estimators = 200, learning_rate = 0.1, RMSE на валидационной выборке: 32.37\n",
            "max_depth = 6 , n_estimators = 200, learning_rate = 0.3, RMSE на валидационной выборке: 34.14\n",
            "max_depth = 6 , n_estimators = 200, learning_rate = 0.5, RMSE на валидационной выборке: 32.67\n",
            "CPU times: user 30min 29s, sys: 24.7 s, total: 30min 54s\n",
            "Wall time: 31min 4s\n"
          ]
        }
      ],
      "source": [
        "%%time\n",
        "for i in param_grid['max_depth']:\n",
        "    for j in param_grid['n_estimators']:\n",
        "        for g in param_grid['learning_rate']:\n",
        "            XGBRegressor_model = XGBRegressor(n_jobs=-1, verbosity=0, random_state=12345,\n",
        "                                              shuffle=False, max_depth=i, n_estimators=j, learning_rate=g)\n",
        "            XGBRegressor_model.fit(train_features, train_target)\n",
        "            pred_valid = XGBRegressor_model.predict(valid_features)\n",
        "            print('max_depth = {} , n_estimators = {}, learning_rate = {}, RMSE на валидационной выборке: {}'\n",
        "                  .format(i, j, g, RMSE(valid_target, pred_valid).round(2)))"
      ]
    },
    {
      "cell_type": "code",
      "execution_count": null,
      "metadata": {
        "id": "CT3wQxhB3-l2"
      },
      "outputs": [],
      "source": [
        "XGBRegressor_model = XGBRegressor(n_jobs=-1, verbosity=0, random_state=12345, max_depth = 4 ,\n",
        "                                  n_estimators = 200, learning_rate = 0.1)"
      ]
    },
    {
      "cell_type": "code",
      "execution_count": null,
      "metadata": {
        "id": "nhRaDz-D3-l3",
        "outputId": "f56b5922-b8cf-4472-e285-8fb4211f6729"
      },
      "outputs": [
        {
          "name": "stdout",
          "output_type": "stream",
          "text": [
            "CPU times: user 1min 36s, sys: 1.67 s, total: 1min 38s\n",
            "Wall time: 1min 39s\n"
          ]
        },
        {
          "data": {
            "text/plain": [
              "XGBRegressor(base_score=0.5, booster='gbtree', colsample_bylevel=1,\n",
              "             colsample_bynode=1, colsample_bytree=1, enable_categorical=False,\n",
              "             gamma=0, gpu_id=-1, importance_type=None,\n",
              "             interaction_constraints='', learning_rate=0.1, max_delta_step=0,\n",
              "             max_depth=4, min_child_weight=1, missing=nan,\n",
              "             monotone_constraints='()', n_estimators=200, n_jobs=-1,\n",
              "             num_parallel_tree=1, predictor='auto', random_state=12345,\n",
              "             reg_alpha=0, reg_lambda=1, scale_pos_weight=1, subsample=1,\n",
              "             tree_method='exact', validate_parameters=1, verbosity=0)"
            ]
          },
          "execution_count": 134,
          "metadata": {},
          "output_type": "execute_result"
        }
      ],
      "source": [
        "%%time\n",
        "XGBRegressor_model.fit(train_valid_features, train_valid_target)"
      ]
    },
    {
      "cell_type": "markdown",
      "metadata": {
        "id": "lp0QTovi3-l3"
      },
      "source": [
        "### CatBoostRegressor"
      ]
    },
    {
      "cell_type": "code",
      "execution_count": null,
      "metadata": {
        "id": "-V00G6s-3-l3"
      },
      "outputs": [],
      "source": [
        "#from catboost import CatBoostRegressor"
      ]
    },
    {
      "cell_type": "code",
      "execution_count": null,
      "metadata": {
        "id": "1sUXufSy3-l3"
      },
      "outputs": [],
      "source": [
        "CatBoost_model = CatBoostRegressor(random_state=12345)\n"
      ]
    },
    {
      "cell_type": "code",
      "execution_count": null,
      "metadata": {
        "id": "KqSCtN__3-l3"
      },
      "outputs": [],
      "source": [
        "param_grid = {'max_depth': [2, 4, 6],\n",
        "              'learning_rate': [0.1, 0.3, 0.5],\n",
        "              'iterations': [50, 100, 200]}"
      ]
    },
    {
      "cell_type": "code",
      "execution_count": null,
      "metadata": {
        "collapsed": true,
        "id": "lW75gBm_3-l3",
        "outputId": "b7b02611-8dfe-4270-fa9c-ce9559a1ba75"
      },
      "outputs": [
        {
          "name": "stdout",
          "output_type": "stream",
          "text": [
            "0:\tlearn: 34.2531035\ttotal: 53.8ms\tremaining: 2.64s\n",
            "49:\tlearn: 24.3091860\ttotal: 97.3ms\tremaining: 0us\n",
            "max_depth = 2 , learning_rate = 0.1, iterations = 50, RMSE на валидационной выборке: 40.46\n",
            "0:\tlearn: 34.2531035\ttotal: 786us\tremaining: 77.9ms\n",
            "99:\tlearn: 22.7336135\ttotal: 63.1ms\tremaining: 0us\n",
            "max_depth = 2 , learning_rate = 0.1, iterations = 100, RMSE на валидационной выборке: 36.04\n",
            "0:\tlearn: 34.2531035\ttotal: 829us\tremaining: 165ms\n",
            "100:\tlearn: 22.6685999\ttotal: 61.8ms\tremaining: 60.6ms\n",
            "199:\tlearn: 21.2870464\ttotal: 122ms\tremaining: 0us\n",
            "max_depth = 2 , learning_rate = 0.1, iterations = 200, RMSE на валидационной выборке: 33.58\n",
            "0:\tlearn: 32.9307720\ttotal: 814us\tremaining: 39.9ms\n",
            "49:\tlearn: 22.0281977\ttotal: 29.4ms\tremaining: 0us\n",
            "max_depth = 2 , learning_rate = 0.3, iterations = 50, RMSE на валидационной выборке: 34.58\n",
            "0:\tlearn: 32.9307720\ttotal: 796us\tremaining: 78.9ms\n",
            "99:\tlearn: 20.8076457\ttotal: 62.5ms\tremaining: 0us\n",
            "max_depth = 2 , learning_rate = 0.3, iterations = 100, RMSE на валидационной выборке: 32.82\n",
            "0:\tlearn: 32.9307720\ttotal: 1.06ms\tremaining: 211ms\n",
            "100:\tlearn: 20.8047529\ttotal: 67.7ms\tremaining: 66.3ms\n",
            "199:\tlearn: 19.4272477\ttotal: 127ms\tremaining: 0us\n",
            "max_depth = 2 , learning_rate = 0.3, iterations = 200, RMSE на валидационной выборке: 32.18\n",
            "0:\tlearn: 31.9016963\ttotal: 754us\tremaining: 37ms\n",
            "49:\tlearn: 21.3246588\ttotal: 31.6ms\tremaining: 0us\n",
            "max_depth = 2 , learning_rate = 0.5, iterations = 50, RMSE на валидационной выборке: 33.48\n",
            "0:\tlearn: 31.9016963\ttotal: 782us\tremaining: 77.5ms\n",
            "99:\tlearn: 19.9332118\ttotal: 73.9ms\tremaining: 0us\n",
            "max_depth = 2 , learning_rate = 0.5, iterations = 100, RMSE на валидационной выборке: 32.65\n",
            "0:\tlearn: 31.9016963\ttotal: 866us\tremaining: 172ms\n",
            "100:\tlearn: 19.9197415\ttotal: 64.5ms\tremaining: 63.2ms\n",
            "199:\tlearn: 18.4152822\ttotal: 124ms\tremaining: 0us\n",
            "max_depth = 2 , learning_rate = 0.5, iterations = 200, RMSE на валидационной выборке: 32.68\n",
            "0:\tlearn: 33.6376792\ttotal: 1.64ms\tremaining: 80.3ms\n",
            "49:\tlearn: 22.0888597\ttotal: 62.7ms\tremaining: 0us\n",
            "max_depth = 4 , learning_rate = 0.1, iterations = 50, RMSE на валидационной выборке: 35.74\n",
            "0:\tlearn: 33.6376792\ttotal: 1.47ms\tremaining: 146ms\n",
            "99:\tlearn: 20.5715488\ttotal: 128ms\tremaining: 0us\n",
            "max_depth = 4 , learning_rate = 0.1, iterations = 100, RMSE на валидационной выборке: 33.13\n",
            "0:\tlearn: 33.6376792\ttotal: 1.31ms\tremaining: 260ms\n",
            "100:\tlearn: 20.5373606\ttotal: 128ms\tremaining: 125ms\n",
            "199:\tlearn: 18.8632451\ttotal: 273ms\tremaining: 0us\n",
            "max_depth = 4 , learning_rate = 0.1, iterations = 200, RMSE на валидационной выборке: 32.12\n",
            "0:\tlearn: 31.1719826\ttotal: 1.46ms\tremaining: 71.5ms\n",
            "49:\tlearn: 19.7267899\ttotal: 68.2ms\tremaining: 0us\n",
            "max_depth = 4 , learning_rate = 0.3, iterations = 50, RMSE на валидационной выборке: 32.65\n",
            "0:\tlearn: 31.1719826\ttotal: 1.72ms\tremaining: 170ms\n",
            "99:\tlearn: 17.5586361\ttotal: 122ms\tremaining: 0us\n",
            "max_depth = 4 , learning_rate = 0.3, iterations = 100, RMSE на валидационной выборке: 32.52\n",
            "0:\tlearn: 31.1719826\ttotal: 1.32ms\tremaining: 262ms\n",
            "100:\tlearn: 17.5122657\ttotal: 129ms\tremaining: 127ms\n",
            "199:\tlearn: 15.1694553\ttotal: 274ms\tremaining: 0us\n",
            "max_depth = 4 , learning_rate = 0.3, iterations = 200, RMSE на валидационной выборке: 32.73\n",
            "0:\tlearn: 29.1687437\ttotal: 1.37ms\tremaining: 67ms\n",
            "49:\tlearn: 18.3147699\ttotal: 59.1ms\tremaining: 0us\n",
            "max_depth = 4 , learning_rate = 0.5, iterations = 50, RMSE на валидационной выборке: 33.69\n",
            "0:\tlearn: 29.1687437\ttotal: 1.47ms\tremaining: 146ms\n",
            "99:\tlearn: 15.9430865\ttotal: 129ms\tremaining: 0us\n",
            "max_depth = 4 , learning_rate = 0.5, iterations = 100, RMSE на валидационной выборке: 33.47\n",
            "0:\tlearn: 29.1687437\ttotal: 1.3ms\tremaining: 258ms\n",
            "100:\tlearn: 15.9029700\ttotal: 135ms\tremaining: 133ms\n",
            "199:\tlearn: 12.9017800\ttotal: 263ms\tremaining: 0us\n",
            "max_depth = 4 , learning_rate = 0.5, iterations = 200, RMSE на валидационной выборке: 33.76\n",
            "0:\tlearn: 33.3994766\ttotal: 4.34ms\tremaining: 213ms\n",
            "49:\tlearn: 20.9095820\ttotal: 129ms\tremaining: 0us\n",
            "max_depth = 6 , learning_rate = 0.1, iterations = 50, RMSE на валидационной выборке: 34.84\n",
            "0:\tlearn: 33.3994766\ttotal: 2.73ms\tremaining: 270ms\n",
            "99:\tlearn: 18.8709617\ttotal: 287ms\tremaining: 0us\n",
            "max_depth = 6 , learning_rate = 0.1, iterations = 100, RMSE на валидационной выборке: 32.45\n",
            "0:\tlearn: 33.3994766\ttotal: 2.87ms\tremaining: 570ms\n",
            "100:\tlearn: 18.8335678\ttotal: 253ms\tremaining: 248ms\n",
            "199:\tlearn: 16.3354461\ttotal: 500ms\tremaining: 0us\n",
            "max_depth = 6 , learning_rate = 0.1, iterations = 200, RMSE на валидационной выборке: 31.74\n",
            "0:\tlearn: 30.4698340\ttotal: 2.65ms\tremaining: 130ms\n",
            "49:\tlearn: 17.8839392\ttotal: 130ms\tremaining: 0us\n",
            "max_depth = 6 , learning_rate = 0.3, iterations = 50, RMSE на валидационной выборке: 32.67\n",
            "0:\tlearn: 30.4698340\ttotal: 3.99ms\tremaining: 395ms\n",
            "99:\tlearn: 14.9711426\ttotal: 254ms\tremaining: 0us\n",
            "max_depth = 6 , learning_rate = 0.3, iterations = 100, RMSE на валидационной выборке: 31.93\n",
            "0:\tlearn: 30.4698340\ttotal: 2.75ms\tremaining: 548ms\n",
            "100:\tlearn: 14.9281085\ttotal: 269ms\tremaining: 263ms\n",
            "199:\tlearn: 11.4460298\ttotal: 531ms\tremaining: 0us\n",
            "max_depth = 6 , learning_rate = 0.3, iterations = 200, RMSE на валидационной выборке: 32.12\n",
            "0:\tlearn: 28.0425627\ttotal: 3.73ms\tremaining: 183ms\n",
            "49:\tlearn: 15.9611423\ttotal: 126ms\tremaining: 0us\n",
            "max_depth = 6 , learning_rate = 0.5, iterations = 50, RMSE на валидационной выборке: 34.2\n",
            "0:\tlearn: 28.0425627\ttotal: 4.29ms\tremaining: 424ms\n",
            "99:\tlearn: 12.4349650\ttotal: 248ms\tremaining: 0us\n",
            "max_depth = 6 , learning_rate = 0.5, iterations = 100, RMSE на валидационной выборке: 35.11\n",
            "0:\tlearn: 28.0425627\ttotal: 2.93ms\tremaining: 583ms\n",
            "100:\tlearn: 12.3361547\ttotal: 251ms\tremaining: 246ms\n",
            "199:\tlearn: 8.1191738\ttotal: 523ms\tremaining: 0us\n",
            "max_depth = 6 , learning_rate = 0.5, iterations = 200, RMSE на валидационной выборке: 35.55\n",
            "CPU times: user 5.18 s, sys: 389 ms, total: 5.57 s\n",
            "Wall time: 22.7 s\n"
          ]
        }
      ],
      "source": [
        "%%time\n",
        "for i in param_grid['max_depth']:\n",
        "    for j in param_grid['learning_rate']:\n",
        "        for g in param_grid['iterations']:\n",
        "            CatBoost_model = CatBoostRegressor(random_state=12345, max_depth=i, learning_rate=j, iterations=g)\n",
        "            CatBoost_model.fit(train_features, train_target, verbose=100)\n",
        "            pred_valid = CatBoost_model.predict(valid_features)\n",
        "            print('max_depth = {} , learning_rate = {}, iterations = {}, RMSE на валидационной выборке: {}'\n",
        "                  .format(i, j, g, RMSE(valid_target, pred_valid).round(2)))"
      ]
    },
    {
      "cell_type": "code",
      "execution_count": null,
      "metadata": {
        "id": "0-Xjmfaw3-l4"
      },
      "outputs": [],
      "source": [
        "CatBoost_model = CatBoostRegressor(random_state=12345, max_depth = 6 , learning_rate = 0.1, iterations = 200)\n"
      ]
    },
    {
      "cell_type": "code",
      "execution_count": null,
      "metadata": {
        "collapsed": true,
        "id": "zItkcWlI3-l4",
        "outputId": "2071529e-46fd-4ca6-ea65-b94e8a7e0bbb"
      },
      "outputs": [
        {
          "name": "stdout",
          "output_type": "stream",
          "text": [
            "0:\tlearn: 36.7521987\ttotal: 3.54ms\tremaining: 704ms\n",
            "10:\tlearn: 28.0162880\ttotal: 36.8ms\tremaining: 632ms\n",
            "20:\tlearn: 25.1200462\ttotal: 62.3ms\tremaining: 531ms\n",
            "30:\tlearn: 24.1120480\ttotal: 87.4ms\tremaining: 477ms\n",
            "40:\tlearn: 23.5649460\ttotal: 118ms\tremaining: 456ms\n",
            "50:\tlearn: 22.8571393\ttotal: 143ms\tremaining: 417ms\n",
            "60:\tlearn: 22.4701372\ttotal: 166ms\tremaining: 379ms\n",
            "70:\tlearn: 21.9052000\ttotal: 200ms\tremaining: 363ms\n",
            "80:\tlearn: 21.4801785\ttotal: 225ms\tremaining: 331ms\n",
            "90:\tlearn: 21.0944510\ttotal: 250ms\tremaining: 299ms\n",
            "100:\tlearn: 20.8559811\ttotal: 278ms\tremaining: 273ms\n",
            "110:\tlearn: 20.4332229\ttotal: 303ms\tremaining: 243ms\n",
            "120:\tlearn: 20.1256069\ttotal: 329ms\tremaining: 215ms\n",
            "130:\tlearn: 19.8101061\ttotal: 360ms\tremaining: 190ms\n",
            "140:\tlearn: 19.4798267\ttotal: 387ms\tremaining: 162ms\n",
            "150:\tlearn: 19.1258553\ttotal: 414ms\tremaining: 134ms\n",
            "160:\tlearn: 18.8157413\ttotal: 446ms\tremaining: 108ms\n",
            "170:\tlearn: 18.5195141\ttotal: 471ms\tremaining: 79.9ms\n",
            "180:\tlearn: 18.2793438\ttotal: 498ms\tremaining: 52.3ms\n",
            "190:\tlearn: 18.0540745\ttotal: 529ms\tremaining: 24.9ms\n",
            "199:\tlearn: 17.8039174\ttotal: 552ms\tremaining: 0us\n",
            "CPU times: user 571 ms, sys: 28.1 ms, total: 599 ms\n",
            "Wall time: 1.2 s\n"
          ]
        },
        {
          "data": {
            "text/plain": [
              "<catboost.core.CatBoostRegressor at 0x7fa8cad127c0>"
            ]
          },
          "execution_count": 140,
          "metadata": {},
          "output_type": "execute_result"
        }
      ],
      "source": [
        "%%time\n",
        "CatBoost_model.fit(train_valid_features, train_valid_target, verbose=10)"
      ]
    },
    {
      "cell_type": "markdown",
      "metadata": {
        "id": "LXXhSuXb3-l5"
      },
      "source": [
        "### LGBMRegressor"
      ]
    },
    {
      "cell_type": "code",
      "execution_count": null,
      "metadata": {
        "id": "eyGi955h3-l5"
      },
      "outputs": [],
      "source": [
        "#from lightgbm import LGBMRegressor"
      ]
    },
    {
      "cell_type": "code",
      "execution_count": null,
      "metadata": {
        "id": "PERfw7bN3-l5",
        "outputId": "7a51fd5d-a716-477b-8862-d0654cf49b2f"
      },
      "outputs": [
        {
          "data": {
            "text/plain": [
              "LGBMRegressor(random_state=12345)"
            ]
          },
          "execution_count": 142,
          "metadata": {},
          "output_type": "execute_result"
        }
      ],
      "source": [
        "LGBM_model = LGBMRegressor(random_state=12345)\n",
        "LGBM_model"
      ]
    },
    {
      "cell_type": "code",
      "execution_count": null,
      "metadata": {
        "id": "04IaHcgW3-l5"
      },
      "outputs": [],
      "source": [
        "param_grid = {'max_depth': [2, 4, 6],\n",
        "              'learning_rate': [0.1, 0.3, 0.5],\n",
        "              'n_estimators': [50, 100, 200]}"
      ]
    },
    {
      "cell_type": "code",
      "execution_count": null,
      "metadata": {
        "collapsed": true,
        "id": "nGYGbdyx3-l5",
        "outputId": "021a7f63-7189-4a23-c39f-264e089cb90d"
      },
      "outputs": [
        {
          "name": "stdout",
          "output_type": "stream",
          "text": [
            "max_depth = 2 , learning_rate = 0.1, n_estimators = 50, RMSE на валидационной выборке: 38.43\n",
            "max_depth = 2 , learning_rate = 0.1, n_estimators = 100, RMSE на валидационной выборке: 35.0\n",
            "max_depth = 2 , learning_rate = 0.1, n_estimators = 200, RMSE на валидационной выборке: 32.81\n",
            "max_depth = 2 , learning_rate = 0.3, n_estimators = 50, RMSE на валидационной выборке: 33.43\n",
            "max_depth = 2 , learning_rate = 0.3, n_estimators = 100, RMSE на валидационной выборке: 31.81\n",
            "max_depth = 2 , learning_rate = 0.3, n_estimators = 200, RMSE на валидационной выборке: 31.8\n",
            "max_depth = 2 , learning_rate = 0.5, n_estimators = 50, RMSE на валидационной выборке: 32.54\n",
            "max_depth = 2 , learning_rate = 0.5, n_estimators = 100, RMSE на валидационной выборке: 32.18\n",
            "max_depth = 2 , learning_rate = 0.5, n_estimators = 200, RMSE на валидационной выборке: 32.31\n",
            "max_depth = 4 , learning_rate = 0.1, n_estimators = 50, RMSE на валидационной выборке: 33.77\n",
            "max_depth = 4 , learning_rate = 0.1, n_estimators = 100, RMSE на валидационной выборке: 32.36\n",
            "max_depth = 4 , learning_rate = 0.1, n_estimators = 200, RMSE на валидационной выборке: 31.73\n",
            "max_depth = 4 , learning_rate = 0.3, n_estimators = 50, RMSE на валидационной выборке: 31.96\n",
            "max_depth = 4 , learning_rate = 0.3, n_estimators = 100, RMSE на валидационной выборке: 32.09\n",
            "max_depth = 4 , learning_rate = 0.3, n_estimators = 200, RMSE на валидационной выборке: 32.43\n",
            "max_depth = 4 , learning_rate = 0.5, n_estimators = 50, RMSE на валидационной выборке: 34.36\n",
            "max_depth = 4 , learning_rate = 0.5, n_estimators = 100, RMSE на валидационной выборке: 33.97\n",
            "max_depth = 4 , learning_rate = 0.5, n_estimators = 200, RMSE на валидационной выборке: 34.58\n",
            "max_depth = 6 , learning_rate = 0.1, n_estimators = 50, RMSE на валидационной выборке: 32.31\n",
            "max_depth = 6 , learning_rate = 0.1, n_estimators = 100, RMSE на валидационной выборке: 31.54\n",
            "max_depth = 6 , learning_rate = 0.1, n_estimators = 200, RMSE на валидационной выборке: 31.89\n",
            "max_depth = 6 , learning_rate = 0.3, n_estimators = 50, RMSE на валидационной выборке: 32.35\n",
            "max_depth = 6 , learning_rate = 0.3, n_estimators = 100, RMSE на валидационной выборке: 32.33\n",
            "max_depth = 6 , learning_rate = 0.3, n_estimators = 200, RMSE на валидационной выборке: 32.82\n",
            "max_depth = 6 , learning_rate = 0.5, n_estimators = 50, RMSE на валидационной выборке: 33.5\n",
            "max_depth = 6 , learning_rate = 0.5, n_estimators = 100, RMSE на валидационной выборке: 33.99\n",
            "max_depth = 6 , learning_rate = 0.5, n_estimators = 200, RMSE на валидационной выборке: 34.43\n",
            "CPU times: user 3min 54s, sys: 3.46 s, total: 3min 57s\n",
            "Wall time: 3min 59s\n"
          ]
        }
      ],
      "source": [
        "%%time\n",
        "for i in param_grid['max_depth']:\n",
        "    for j in param_grid['learning_rate']:\n",
        "        for g in param_grid['n_estimators']:\n",
        "            LGBM_model = LGBMRegressor(random_state=12345, max_depth=i, learning_rate=j, n_estimators=g)\n",
        "            LGBM_model.fit(train_features, train_target)\n",
        "            pred_valid = LGBM_model.predict(valid_features)\n",
        "            print('max_depth = {} , learning_rate = {}, n_estimators = {}, RMSE на валидационной выборке: {}'\n",
        "                  .format(i, j, g, RMSE(valid_target, pred_valid).round(2)))"
      ]
    },
    {
      "cell_type": "code",
      "execution_count": null,
      "metadata": {
        "id": "PqbqPqLp3-l5"
      },
      "outputs": [],
      "source": [
        "LGBM_model = LGBMRegressor(random_state=12345, max_depth = 6 , learning_rate = 0.1, n_estimators = 100)"
      ]
    },
    {
      "cell_type": "markdown",
      "metadata": {
        "id": "ScHufA6o3-l6"
      },
      "source": [
        "<font color='blue'><b>Комментарий ревьюера: </b></font> ✔️\\\n",
        "<font color='green'>👍</font>"
      ]
    },
    {
      "cell_type": "code",
      "execution_count": null,
      "metadata": {
        "id": "DyF6wbi03-l6",
        "outputId": "affab402-c368-41ee-e36c-7a14a5d40deb"
      },
      "outputs": [
        {
          "name": "stdout",
          "output_type": "stream",
          "text": [
            "CPU times: user 47.3 s, sys: 552 ms, total: 47.9 s\n",
            "Wall time: 48.1 s\n"
          ]
        },
        {
          "data": {
            "text/plain": [
              "LGBMRegressor(max_depth=6, random_state=12345)"
            ]
          },
          "execution_count": 146,
          "metadata": {},
          "output_type": "execute_result"
        }
      ],
      "source": [
        "%%time\n",
        "LGBM_model.fit(train_valid_features, train_valid_target)"
      ]
    },
    {
      "cell_type": "markdown",
      "metadata": {
        "id": "p7DaAaW63-l7"
      },
      "source": [
        "**Вывод:**\n",
        "\n",
        "На валидационной выборке модели градиентного бустинга имеют примерно равные и лучшие показатели по сравнению с линейной регрессией и стахастическим градиентным бустингом. В тоже время обучения этих моделей требует больших временных затрат."
      ]
    },
    {
      "cell_type": "markdown",
      "metadata": {
        "id": "--hAhUCq3-l7"
      },
      "source": [
        "## Тестирование"
      ]
    },
    {
      "cell_type": "markdown",
      "metadata": {
        "id": "qe2hBeSJ3-l7"
      },
      "source": [
        "Сделаем предсказания моделей на тестовой выборке и оценим их качество:"
      ]
    },
    {
      "cell_type": "markdown",
      "metadata": {
        "id": "KO-DPDip3-l8"
      },
      "source": [
        "### LinearRegression"
      ]
    },
    {
      "cell_type": "code",
      "execution_count": null,
      "metadata": {
        "id": "8sLJMTs_3-l8",
        "outputId": "a202920b-8b6e-4d00-ece1-cc5178ef2165"
      },
      "outputs": [
        {
          "name": "stdout",
          "output_type": "stream",
          "text": [
            "CPU times: user 318 µs, sys: 5 µs, total: 323 µs\n",
            "Wall time: 418 µs\n"
          ]
        }
      ],
      "source": [
        "%%time\n",
        "pred_test = LinearReg_model.predict(test_features)"
      ]
    },
    {
      "cell_type": "code",
      "execution_count": null,
      "metadata": {
        "id": "IustC9Db3-l8",
        "outputId": "4423c08c-dcff-4a42-aedf-414896f9d74d"
      },
      "outputs": [
        {
          "name": "stdout",
          "output_type": "stream",
          "text": [
            "RMSE на тестовой выборке:  54.04\n"
          ]
        }
      ],
      "source": [
        "print('RMSE на тестовой выборке: ', RMSE(test_target, pred_test).round(2))"
      ]
    },
    {
      "cell_type": "markdown",
      "metadata": {
        "id": "YAjx020h3-l8"
      },
      "source": [
        "### SGDRegressor"
      ]
    },
    {
      "cell_type": "code",
      "execution_count": null,
      "metadata": {
        "id": "78elG0zL3-l8",
        "outputId": "c9c6ede6-cfd3-465c-b386-a31407e3a1cd"
      },
      "outputs": [
        {
          "name": "stdout",
          "output_type": "stream",
          "text": [
            "CPU times: user 333 µs, sys: 5 µs, total: 338 µs\n",
            "Wall time: 315 µs\n"
          ]
        }
      ],
      "source": [
        "%%time\n",
        "pred_test = SGD_LinearReg_model.predict(test_features)\n"
      ]
    },
    {
      "cell_type": "code",
      "execution_count": null,
      "metadata": {
        "id": "uZK_x1bR3-l8",
        "outputId": "5fdbe3f0-ba9e-42e1-f44d-c3e23f9fe315"
      },
      "outputs": [
        {
          "name": "stdout",
          "output_type": "stream",
          "text": [
            "RMSE на тестовой выборке:  56.63\n"
          ]
        }
      ],
      "source": [
        "print('RMSE на тестовой выборке: ', RMSE(test_target, pred_test).round(2))\n"
      ]
    },
    {
      "cell_type": "markdown",
      "metadata": {
        "id": "GLct16a03-l9"
      },
      "source": [
        "### XGBRegressor"
      ]
    },
    {
      "cell_type": "code",
      "execution_count": null,
      "metadata": {
        "id": "9r6cK7RE3-l9",
        "outputId": "1328553b-9aa4-470c-afa0-3f0c7e3e9cb8"
      },
      "outputs": [
        {
          "name": "stdout",
          "output_type": "stream",
          "text": [
            "CPU times: user 54.2 ms, sys: 0 ns, total: 54.2 ms\n",
            "Wall time: 15.6 ms\n"
          ]
        }
      ],
      "source": [
        "%%time\n",
        "pred_test = XGBRegressor_model.predict(test_features)"
      ]
    },
    {
      "cell_type": "code",
      "execution_count": null,
      "metadata": {
        "id": "5UwVy0Zt3-l9",
        "outputId": "a757db9c-6884-4488-b5b4-1dd49503bf87"
      },
      "outputs": [
        {
          "name": "stdout",
          "output_type": "stream",
          "text": [
            "RMSE на тестовой выборке:  45.23\n"
          ]
        }
      ],
      "source": [
        "print('RMSE на тестовой выборке: ', RMSE(test_target, pred_test).round(2))"
      ]
    },
    {
      "cell_type": "markdown",
      "metadata": {
        "id": "xgCCzqZZ3-l9"
      },
      "source": [
        "### CatBoostRegressor"
      ]
    },
    {
      "cell_type": "code",
      "execution_count": null,
      "metadata": {
        "id": "RVBew62o3-l-",
        "outputId": "2c0d9b4a-c06a-4d43-e8c5-b7e5a3e1d6bb"
      },
      "outputs": [
        {
          "name": "stdout",
          "output_type": "stream",
          "text": [
            "CPU times: user 1.43 ms, sys: 21 µs, total: 1.45 ms\n",
            "Wall time: 1.07 ms\n"
          ]
        }
      ],
      "source": [
        "%%time\n",
        "pred_test = CatBoost_model.predict(test_features)"
      ]
    },
    {
      "cell_type": "code",
      "execution_count": null,
      "metadata": {
        "id": "s870A4z73-l-",
        "outputId": "0c10f7be-9c97-48a3-affe-a66fb607cccc"
      },
      "outputs": [
        {
          "name": "stdout",
          "output_type": "stream",
          "text": [
            "RMSE на тестовой выборке:  44.71\n"
          ]
        }
      ],
      "source": [
        "print('RMSE на тестовой выборке: ', RMSE(test_target, pred_test).round(2))\n"
      ]
    },
    {
      "cell_type": "markdown",
      "metadata": {
        "id": "b6VeoBN33-l-"
      },
      "source": [
        "### LGBMRegressor"
      ]
    },
    {
      "cell_type": "code",
      "execution_count": null,
      "metadata": {
        "id": "9ZcFKJY03-l-",
        "outputId": "2ce21fa6-017d-45ee-9224-085efa929515"
      },
      "outputs": [
        {
          "name": "stdout",
          "output_type": "stream",
          "text": [
            "CPU times: user 2.08 ms, sys: 31 µs, total: 2.12 ms\n",
            "Wall time: 1.92 ms\n"
          ]
        }
      ],
      "source": [
        "%%time\n",
        "pred_test = LGBM_model.predict(test_features)"
      ]
    },
    {
      "cell_type": "code",
      "execution_count": null,
      "metadata": {
        "id": "OrxNSCL33-l-",
        "outputId": "c9e6a1b4-6e3a-4dcd-928a-598041e81879"
      },
      "outputs": [
        {
          "name": "stdout",
          "output_type": "stream",
          "text": [
            "RMSE на тестовой выборке:  42.96\n"
          ]
        }
      ],
      "source": [
        "print('RMSE на тестовой выборке: ', RMSE(test_target, pred_test).round(2))"
      ]
    },
    {
      "cell_type": "markdown",
      "metadata": {
        "id": "-E7iCMOA3-l-"
      },
      "source": [
        "### Сводная таблица"
      ]
    },
    {
      "cell_type": "code",
      "execution_count": null,
      "metadata": {
        "id": "VMMa06Cc3-l_"
      },
      "outputs": [],
      "source": [
        "data = {'Модель':['LinearRegression', 'SGDRegressor', 'XGBRegressor', 'CatBoostRegressor', 'LGBMRegressor'],\n",
        "        'Скорость обучения':['98 ms', '186 s', '1 min 39 s', '1.2 s', '48.1 s'],\n",
        "        'Метрика RMSE': [31, 56.63, 45.23, 44.71, 42.96]}"
      ]
    },
    {
      "cell_type": "code",
      "execution_count": null,
      "metadata": {
        "id": "tYJa1F-73-l_",
        "outputId": "b7e067c5-fd92-4f4c-a622-804dd65d8adb"
      },
      "outputs": [
        {
          "data": {
            "text/html": [
              "<div>\n",
              "<style scoped>\n",
              "    .dataframe tbody tr th:only-of-type {\n",
              "        vertical-align: middle;\n",
              "    }\n",
              "\n",
              "    .dataframe tbody tr th {\n",
              "        vertical-align: top;\n",
              "    }\n",
              "\n",
              "    .dataframe thead th {\n",
              "        text-align: right;\n",
              "    }\n",
              "</style>\n",
              "<table border=\"1\" class=\"dataframe\">\n",
              "  <thead>\n",
              "    <tr style=\"text-align: right;\">\n",
              "      <th></th>\n",
              "      <th>Модель</th>\n",
              "      <th>Скорость обучения</th>\n",
              "      <th>Метрика RMSE</th>\n",
              "    </tr>\n",
              "  </thead>\n",
              "  <tbody>\n",
              "    <tr>\n",
              "      <th>0</th>\n",
              "      <td>LinearRegression</td>\n",
              "      <td>1.94 ms</td>\n",
              "      <td>54.04</td>\n",
              "    </tr>\n",
              "    <tr>\n",
              "      <th>1</th>\n",
              "      <td>SGDRegressor</td>\n",
              "      <td>186 s</td>\n",
              "      <td>56.63</td>\n",
              "    </tr>\n",
              "    <tr>\n",
              "      <th>2</th>\n",
              "      <td>XGBRegressor</td>\n",
              "      <td>1 min 39 s</td>\n",
              "      <td>45.23</td>\n",
              "    </tr>\n",
              "    <tr>\n",
              "      <th>3</th>\n",
              "      <td>CatBoostRegressor</td>\n",
              "      <td>1.2 s</td>\n",
              "      <td>44.71</td>\n",
              "    </tr>\n",
              "    <tr>\n",
              "      <th>4</th>\n",
              "      <td>LGBMRegressor</td>\n",
              "      <td>48.1 s</td>\n",
              "      <td>42.96</td>\n",
              "    </tr>\n",
              "  </tbody>\n",
              "</table>\n",
              "</div>"
            ],
            "text/plain": [
              "              Модель Скорость обучения  Метрика RMSE\n",
              "0   LinearRegression           1.94 ms         54.04\n",
              "1       SGDRegressor             186 s         56.63\n",
              "2       XGBRegressor        1 min 39 s         45.23\n",
              "3  CatBoostRegressor             1.2 s         44.71\n",
              "4      LGBMRegressor            48.1 s         42.96"
            ]
          },
          "execution_count": 160,
          "metadata": {},
          "output_type": "execute_result"
        }
      ],
      "source": [
        "df1 = pd.DataFrame(data)\n",
        "df1"
      ]
    },
    {
      "cell_type": "markdown",
      "metadata": {
        "id": "__pFUpsq3-l_"
      },
      "source": [
        "## ИТОГ"
      ]
    },
    {
      "cell_type": "markdown",
      "metadata": {
        "id": "G6fhVCtM3-l_"
      },
      "source": [
        "3 из 5 моделей показали результат RMSE ниже 48.\n",
        "\n",
        "Наиболее отпимальным по качеству метрики является **LGBMRegressor**\n",
        "Наиболее отпимальным по скорости обучения **CatBoostRegressor**\n",
        "Наиболее отптимальным по соотношению скорость-качество является **CatBoostRegresor**\n",
        "\n",
        "**Вывод:**\n",
        "\n",
        "По результатам исследований моделей для поставленной задачи наиболее оптимальными являются модели градиентного бустинга:\n",
        "\n",
        "* XGBRegressor\n",
        "* CatBoostRegressor\n",
        "* LGBMRegressor\n",
        "\n",
        "Метрики качества моделей RMSE имеют примерно равные показатели.\n",
        "По скорости обучения из этих трех моделей лучшая - CatBoostRegressor.\n",
        "По качеству метрики RMSE - LGVMRegressor\n",
        "Наиболее оптимальной для поставленной задачи \"Прогнозирования количество заказов такси на следующий час\" является LGBMRegressor."
      ]
    },
    {
      "cell_type": "markdown",
      "metadata": {
        "id": "1ya1-GKO3-mA"
      },
      "source": [
        "4 из 5 моделей показали результат RMSE ниже 48.\n",
        "\n",
        "Наиболее отпимальным по качеству метрики является **LinearRegression**\n",
        "Наиболее отпимальным по скорости обучения **LinearRegression**\n",
        "Наиболее отптимальным по соотношению скорость-качество является **LinearRegression**\n",
        "\n",
        "**Вывод:**\n",
        "\n",
        "По результатам исследований моделей для поставленной задачи наиболее оптимальными являются модели градиентного бустинга:\n",
        "\n",
        "* XGBRegressor\n",
        "* CatBoostRegressor\n",
        "* LGBMRegressor\n",
        "* LinearRegression\n",
        "\n",
        "Метрики качества моделей RMSE имеют примерно равные показатели у трех моделей.\n",
        "По скорости обучения из этих трех моделей лучшая - CatBoostRegressor.\n",
        "По качеству метрики RMSE - LGVMRegressor\n",
        "Наиболее оптимальной для поставленной задачи \"Прогнозирования количество заказов такси на следующий час\" является LGBMRegressor.\n",
        "\n",
        "Однако, на проверки модели с помощью кросс-валидации отлично себя показала LinearRegression."
      ]
    }
  ],
  "metadata": {
    "ExecuteTimeLog": [
      {
        "duration": 1412,
        "start_time": "2023-05-31T10:36:09.819Z"
      },
      {
        "duration": 133,
        "start_time": "2023-05-31T10:37:26.362Z"
      },
      {
        "duration": 16,
        "start_time": "2023-05-31T10:37:43.194Z"
      },
      {
        "duration": 14,
        "start_time": "2023-05-31T10:41:38.597Z"
      },
      {
        "duration": 644,
        "start_time": "2023-05-31T10:45:41.333Z"
      },
      {
        "duration": 9,
        "start_time": "2023-05-31T10:46:24.194Z"
      },
      {
        "duration": 24,
        "start_time": "2023-05-31T10:46:41.597Z"
      },
      {
        "duration": 86,
        "start_time": "2023-05-31T10:47:05.298Z"
      },
      {
        "duration": 400,
        "start_time": "2023-05-31T10:51:44.496Z"
      },
      {
        "duration": 315,
        "start_time": "2023-05-31T10:51:53.437Z"
      },
      {
        "duration": 296,
        "start_time": "2023-05-31T10:52:15.253Z"
      },
      {
        "duration": 249,
        "start_time": "2023-05-31T10:52:21.224Z"
      },
      {
        "duration": 286,
        "start_time": "2023-05-31T10:52:25.844Z"
      },
      {
        "duration": 290,
        "start_time": "2023-05-31T10:54:03.470Z"
      },
      {
        "duration": 14,
        "start_time": "2023-05-31T10:54:54.432Z"
      },
      {
        "duration": 213,
        "start_time": "2023-05-31T10:55:40.628Z"
      },
      {
        "duration": 217,
        "start_time": "2023-05-31T10:56:45.017Z"
      },
      {
        "duration": 15,
        "start_time": "2023-05-31T11:11:39.600Z"
      },
      {
        "duration": 54,
        "start_time": "2023-05-31T11:11:58.821Z"
      },
      {
        "duration": 13,
        "start_time": "2023-05-31T11:12:32.539Z"
      },
      {
        "duration": 5,
        "start_time": "2023-05-31T11:12:40.065Z"
      },
      {
        "duration": 10,
        "start_time": "2023-05-31T11:12:41.147Z"
      },
      {
        "duration": 4,
        "start_time": "2023-05-31T11:12:57.153Z"
      },
      {
        "duration": 11,
        "start_time": "2023-05-31T17:32:27.705Z"
      },
      {
        "duration": 2141,
        "start_time": "2023-05-31T17:32:33.953Z"
      },
      {
        "duration": 4,
        "start_time": "2023-05-31T17:32:39.744Z"
      },
      {
        "duration": 44,
        "start_time": "2023-05-31T17:38:55.940Z"
      },
      {
        "duration": 4,
        "start_time": "2023-05-31T17:39:03.068Z"
      },
      {
        "duration": 8,
        "start_time": "2023-05-31T17:39:11.172Z"
      },
      {
        "duration": 17,
        "start_time": "2023-05-31T17:39:25.941Z"
      },
      {
        "duration": 10,
        "start_time": "2023-05-31T17:39:35.442Z"
      },
      {
        "duration": 5,
        "start_time": "2023-05-31T17:39:43.242Z"
      },
      {
        "duration": 5,
        "start_time": "2023-05-31T17:40:06.163Z"
      },
      {
        "duration": 6,
        "start_time": "2023-05-31T17:48:37.042Z"
      },
      {
        "duration": 3,
        "start_time": "2023-05-31T17:48:45.652Z"
      },
      {
        "duration": 6,
        "start_time": "2023-05-31T17:48:58.025Z"
      },
      {
        "duration": 12,
        "start_time": "2023-05-31T17:50:19.702Z"
      },
      {
        "duration": 1862,
        "start_time": "2023-05-31T17:50:20.061Z"
      },
      {
        "duration": 4,
        "start_time": "2023-05-31T17:50:21.929Z"
      },
      {
        "duration": 49,
        "start_time": "2023-05-31T17:50:21.934Z"
      },
      {
        "duration": 3,
        "start_time": "2023-05-31T17:50:21.985Z"
      },
      {
        "duration": 10,
        "start_time": "2023-05-31T17:50:22.326Z"
      },
      {
        "duration": 10,
        "start_time": "2023-05-31T17:50:22.890Z"
      },
      {
        "duration": 9,
        "start_time": "2023-05-31T17:50:26.023Z"
      },
      {
        "duration": 882,
        "start_time": "2023-05-31T17:50:40.570Z"
      },
      {
        "duration": 21,
        "start_time": "2023-05-31T17:51:02.690Z"
      },
      {
        "duration": 5,
        "start_time": "2023-05-31T17:58:52.990Z"
      },
      {
        "duration": 79,
        "start_time": "2023-05-31T18:00:12.589Z"
      },
      {
        "duration": 9,
        "start_time": "2023-05-31T18:02:09.989Z"
      },
      {
        "duration": 15,
        "start_time": "2023-05-31T18:03:31.749Z"
      },
      {
        "duration": 4,
        "start_time": "2023-05-31T18:03:36.990Z"
      },
      {
        "duration": 74,
        "start_time": "2023-05-31T18:03:37.589Z"
      },
      {
        "duration": 15,
        "start_time": "2023-05-31T18:03:38.132Z"
      },
      {
        "duration": 3,
        "start_time": "2023-05-31T18:05:16.731Z"
      },
      {
        "duration": 4,
        "start_time": "2023-05-31T18:05:34.748Z"
      },
      {
        "duration": 653,
        "start_time": "2023-05-31T18:08:11.432Z"
      },
      {
        "duration": 15,
        "start_time": "2023-05-31T18:40:42.416Z"
      },
      {
        "duration": 790,
        "start_time": "2023-05-31T18:41:18.548Z"
      },
      {
        "duration": 590,
        "start_time": "2023-05-31T18:41:47.067Z"
      },
      {
        "duration": 20,
        "start_time": "2023-05-31T18:43:03.107Z"
      },
      {
        "duration": 27,
        "start_time": "2023-05-31T18:43:10.855Z"
      },
      {
        "duration": 8,
        "start_time": "2023-05-31T18:43:56.447Z"
      },
      {
        "duration": 4,
        "start_time": "2023-05-31T18:44:04.946Z"
      },
      {
        "duration": 7,
        "start_time": "2023-05-31T18:44:53.961Z"
      },
      {
        "duration": 5,
        "start_time": "2023-05-31T18:45:13.268Z"
      },
      {
        "duration": 10,
        "start_time": "2023-05-31T18:45:47.947Z"
      },
      {
        "duration": 63,
        "start_time": "2023-05-31T18:45:55.267Z"
      },
      {
        "duration": 3,
        "start_time": "2023-05-31T18:46:09.547Z"
      },
      {
        "duration": 5,
        "start_time": "2023-05-31T18:49:40.486Z"
      },
      {
        "duration": 3,
        "start_time": "2023-05-31T18:53:21.985Z"
      },
      {
        "duration": 3,
        "start_time": "2023-05-31T18:53:38.886Z"
      },
      {
        "duration": 9,
        "start_time": "2023-05-31T18:55:42.130Z"
      },
      {
        "duration": 29,
        "start_time": "2023-05-31T18:56:04.625Z"
      },
      {
        "duration": 8,
        "start_time": "2023-05-31T18:56:22.806Z"
      },
      {
        "duration": 5,
        "start_time": "2023-05-31T18:58:59.928Z"
      },
      {
        "duration": 4,
        "start_time": "2023-05-31T18:59:11.246Z"
      },
      {
        "duration": 4,
        "start_time": "2023-05-31T18:59:18.138Z"
      },
      {
        "duration": 6651,
        "start_time": "2023-05-31T18:59:38.594Z"
      },
      {
        "duration": 4,
        "start_time": "2023-05-31T19:00:24.307Z"
      },
      {
        "duration": 346,
        "start_time": "2023-05-31T19:00:39.878Z"
      },
      {
        "duration": 4,
        "start_time": "2023-05-31T19:01:22.305Z"
      },
      {
        "duration": 5,
        "start_time": "2023-05-31T19:01:28.886Z"
      },
      {
        "duration": 3,
        "start_time": "2023-05-31T19:02:44.967Z"
      },
      {
        "duration": 1811277,
        "start_time": "2023-05-31T19:02:54.943Z"
      },
      {
        "duration": 3,
        "start_time": "2023-05-31T19:33:18.248Z"
      },
      {
        "duration": 37890,
        "start_time": "2023-05-31T19:33:27.656Z"
      },
      {
        "duration": 2,
        "start_time": "2023-05-31T19:34:46.139Z"
      },
      {
        "duration": 3,
        "start_time": "2023-05-31T19:34:48.039Z"
      },
      {
        "duration": 3,
        "start_time": "2023-05-31T19:34:55.938Z"
      },
      {
        "duration": 15793,
        "start_time": "2023-05-31T19:35:01.790Z"
      },
      {
        "duration": 3,
        "start_time": "2023-05-31T19:35:32.769Z"
      },
      {
        "duration": 978,
        "start_time": "2023-05-31T19:35:40.916Z"
      },
      {
        "duration": 3,
        "start_time": "2023-05-31T19:36:07.441Z"
      },
      {
        "duration": 4,
        "start_time": "2023-05-31T19:36:13.042Z"
      },
      {
        "duration": 2,
        "start_time": "2023-05-31T19:36:53.869Z"
      },
      {
        "duration": 13835,
        "start_time": "2023-05-31T19:37:16.588Z"
      },
      {
        "duration": 3,
        "start_time": "2023-05-31T19:37:36.449Z"
      },
      {
        "duration": 594,
        "start_time": "2023-05-31T19:38:11.312Z"
      },
      {
        "duration": 4,
        "start_time": "2023-05-31T19:39:11.737Z"
      },
      {
        "duration": 4,
        "start_time": "2023-05-31T19:39:18.097Z"
      },
      {
        "duration": 9,
        "start_time": "2023-05-31T19:39:45.709Z"
      },
      {
        "duration": 4,
        "start_time": "2023-05-31T19:39:52.176Z"
      },
      {
        "duration": 13,
        "start_time": "2023-05-31T19:40:22.388Z"
      },
      {
        "duration": 4,
        "start_time": "2023-05-31T19:40:28.749Z"
      },
      {
        "duration": 4,
        "start_time": "2023-05-31T19:40:52.236Z"
      },
      {
        "duration": 3,
        "start_time": "2023-05-31T19:40:59.173Z"
      },
      {
        "duration": 5,
        "start_time": "2023-05-31T19:41:30.768Z"
      },
      {
        "duration": 4,
        "start_time": "2023-05-31T19:41:38.176Z"
      },
      {
        "duration": 6,
        "start_time": "2023-05-31T19:41:56.956Z"
      },
      {
        "duration": 4,
        "start_time": "2023-05-31T19:42:03.768Z"
      },
      {
        "duration": 4,
        "start_time": "2023-05-31T19:42:55.608Z"
      },
      {
        "duration": 12,
        "start_time": "2023-05-31T19:43:01.748Z"
      },
      {
        "duration": 2624,
        "start_time": "2023-06-01T06:31:12.518Z"
      },
      {
        "duration": 177,
        "start_time": "2023-06-01T06:31:15.144Z"
      },
      {
        "duration": 14,
        "start_time": "2023-06-01T06:31:15.323Z"
      },
      {
        "duration": 3,
        "start_time": "2023-06-01T06:31:15.339Z"
      },
      {
        "duration": 25,
        "start_time": "2023-06-01T06:31:15.343Z"
      },
      {
        "duration": 683,
        "start_time": "2023-06-01T06:31:15.370Z"
      },
      {
        "duration": 21,
        "start_time": "2023-06-01T06:31:16.058Z"
      },
      {
        "duration": 229,
        "start_time": "2023-06-01T06:31:16.080Z"
      },
      {
        "duration": 0,
        "start_time": "2023-06-01T06:31:16.311Z"
      },
      {
        "duration": 0,
        "start_time": "2023-06-01T06:31:16.313Z"
      },
      {
        "duration": 0,
        "start_time": "2023-06-01T06:31:16.314Z"
      },
      {
        "duration": 0,
        "start_time": "2023-06-01T06:31:16.315Z"
      },
      {
        "duration": 0,
        "start_time": "2023-06-01T06:31:16.316Z"
      },
      {
        "duration": 0,
        "start_time": "2023-06-01T06:31:16.318Z"
      },
      {
        "duration": 0,
        "start_time": "2023-06-01T06:31:16.319Z"
      },
      {
        "duration": 99,
        "start_time": "2023-06-01T06:32:08.201Z"
      },
      {
        "duration": 42,
        "start_time": "2023-06-01T06:32:09.454Z"
      },
      {
        "duration": 10,
        "start_time": "2023-06-01T06:32:15.515Z"
      },
      {
        "duration": 7,
        "start_time": "2023-06-01T06:32:16.758Z"
      },
      {
        "duration": 7,
        "start_time": "2023-06-01T06:32:17.778Z"
      },
      {
        "duration": 5,
        "start_time": "2023-06-01T06:32:18.479Z"
      },
      {
        "duration": 14,
        "start_time": "2023-06-01T06:34:31.350Z"
      },
      {
        "duration": 3,
        "start_time": "2023-06-01T06:34:32.429Z"
      },
      {
        "duration": 6,
        "start_time": "2023-06-01T06:34:35.944Z"
      },
      {
        "duration": 21,
        "start_time": "2023-06-01T06:34:38.286Z"
      },
      {
        "duration": 3,
        "start_time": "2023-06-01T06:34:39.522Z"
      },
      {
        "duration": 10,
        "start_time": "2023-06-01T06:34:42.121Z"
      },
      {
        "duration": 1569,
        "start_time": "2023-06-01T07:04:35.497Z"
      },
      {
        "duration": 304,
        "start_time": "2023-06-01T07:04:37.067Z"
      },
      {
        "duration": 17,
        "start_time": "2023-06-01T07:04:37.405Z"
      },
      {
        "duration": 3,
        "start_time": "2023-06-01T07:04:38.476Z"
      },
      {
        "duration": 3,
        "start_time": "2023-06-01T07:04:39.335Z"
      },
      {
        "duration": 587,
        "start_time": "2023-06-01T07:04:41.485Z"
      },
      {
        "duration": 12,
        "start_time": "2023-06-01T07:04:48.780Z"
      },
      {
        "duration": 19,
        "start_time": "2023-06-01T07:04:50.462Z"
      },
      {
        "duration": 763,
        "start_time": "2023-06-01T07:04:51.478Z"
      },
      {
        "duration": 600,
        "start_time": "2023-06-01T07:04:56.245Z"
      },
      {
        "duration": 5,
        "start_time": "2023-06-01T07:12:28.631Z"
      },
      {
        "duration": 3,
        "start_time": "2023-06-01T07:12:50.173Z"
      },
      {
        "duration": 12,
        "start_time": "2023-06-01T07:13:10.108Z"
      },
      {
        "duration": 3,
        "start_time": "2023-06-01T07:17:14.380Z"
      },
      {
        "duration": 13,
        "start_time": "2023-06-01T07:17:14.830Z"
      },
      {
        "duration": 2,
        "start_time": "2023-06-01T07:17:28.576Z"
      },
      {
        "duration": 125,
        "start_time": "2023-06-01T07:18:35.078Z"
      },
      {
        "duration": 7,
        "start_time": "2023-06-01T07:18:40.835Z"
      },
      {
        "duration": 4,
        "start_time": "2023-06-01T07:18:42.044Z"
      },
      {
        "duration": 5,
        "start_time": "2023-06-01T07:18:55.887Z"
      },
      {
        "duration": 7,
        "start_time": "2023-06-01T07:19:11.457Z"
      },
      {
        "duration": 4,
        "start_time": "2023-06-01T07:19:12.065Z"
      },
      {
        "duration": 7,
        "start_time": "2023-06-01T07:19:14.037Z"
      },
      {
        "duration": 468,
        "start_time": "2023-06-01T07:19:18.284Z"
      },
      {
        "duration": 5,
        "start_time": "2023-06-01T07:20:07.905Z"
      },
      {
        "duration": 51,
        "start_time": "2023-06-01T07:20:09.049Z"
      },
      {
        "duration": 17,
        "start_time": "2023-06-01T07:20:09.929Z"
      },
      {
        "duration": 3,
        "start_time": "2023-06-01T07:20:10.780Z"
      },
      {
        "duration": 4,
        "start_time": "2023-06-01T07:20:11.546Z"
      },
      {
        "duration": 626,
        "start_time": "2023-06-01T07:20:12.725Z"
      },
      {
        "duration": 21,
        "start_time": "2023-06-01T07:20:14.824Z"
      },
      {
        "duration": 6,
        "start_time": "2023-06-01T07:20:16.360Z"
      },
      {
        "duration": 763,
        "start_time": "2023-06-01T07:20:16.905Z"
      },
      {
        "duration": 635,
        "start_time": "2023-06-01T07:20:18.201Z"
      },
      {
        "duration": 2,
        "start_time": "2023-06-01T07:21:14.192Z"
      },
      {
        "duration": 5,
        "start_time": "2023-06-01T07:21:15.843Z"
      },
      {
        "duration": 9,
        "start_time": "2023-06-01T07:21:16.554Z"
      },
      {
        "duration": 2,
        "start_time": "2023-06-01T07:21:18.100Z"
      },
      {
        "duration": 6,
        "start_time": "2023-06-01T07:21:19.372Z"
      },
      {
        "duration": 4,
        "start_time": "2023-06-01T07:21:20.002Z"
      },
      {
        "duration": 6,
        "start_time": "2023-06-01T07:21:21.794Z"
      },
      {
        "duration": 96,
        "start_time": "2023-06-01T07:21:24.293Z"
      },
      {
        "duration": 61,
        "start_time": "2023-06-01T07:23:35.638Z"
      },
      {
        "duration": 1330,
        "start_time": "2023-06-01T07:23:44.117Z"
      },
      {
        "duration": 59,
        "start_time": "2023-06-01T07:23:45.449Z"
      },
      {
        "duration": 13,
        "start_time": "2023-06-01T07:23:45.509Z"
      },
      {
        "duration": 4,
        "start_time": "2023-06-01T07:23:45.523Z"
      },
      {
        "duration": 25,
        "start_time": "2023-06-01T07:23:45.529Z"
      },
      {
        "duration": 643,
        "start_time": "2023-06-01T07:23:45.556Z"
      },
      {
        "duration": 16,
        "start_time": "2023-06-01T07:23:46.200Z"
      },
      {
        "duration": 7,
        "start_time": "2023-06-01T07:23:46.218Z"
      },
      {
        "duration": 815,
        "start_time": "2023-06-01T07:23:46.226Z"
      },
      {
        "duration": 610,
        "start_time": "2023-06-01T07:23:47.042Z"
      },
      {
        "duration": 3,
        "start_time": "2023-06-01T07:23:47.653Z"
      },
      {
        "duration": 303,
        "start_time": "2023-06-01T07:23:47.658Z"
      },
      {
        "duration": 9,
        "start_time": "2023-06-01T07:23:47.963Z"
      },
      {
        "duration": 3,
        "start_time": "2023-06-01T07:23:47.975Z"
      },
      {
        "duration": 6,
        "start_time": "2023-06-01T07:23:47.980Z"
      },
      {
        "duration": 6,
        "start_time": "2023-06-01T07:23:47.988Z"
      },
      {
        "duration": 8,
        "start_time": "2023-06-01T07:23:47.995Z"
      },
      {
        "duration": 213,
        "start_time": "2023-06-01T07:23:48.004Z"
      },
      {
        "duration": 0,
        "start_time": "2023-06-01T07:23:48.220Z"
      },
      {
        "duration": 0,
        "start_time": "2023-06-01T07:23:48.222Z"
      },
      {
        "duration": 0,
        "start_time": "2023-06-01T07:23:48.224Z"
      },
      {
        "duration": 0,
        "start_time": "2023-06-01T07:23:48.225Z"
      },
      {
        "duration": 0,
        "start_time": "2023-06-01T07:23:48.226Z"
      },
      {
        "duration": 0,
        "start_time": "2023-06-01T07:23:48.228Z"
      },
      {
        "duration": 0,
        "start_time": "2023-06-01T07:23:48.229Z"
      },
      {
        "duration": 0,
        "start_time": "2023-06-01T07:23:48.230Z"
      },
      {
        "duration": 0,
        "start_time": "2023-06-01T07:23:48.231Z"
      },
      {
        "duration": 0,
        "start_time": "2023-06-01T07:23:48.233Z"
      },
      {
        "duration": 0,
        "start_time": "2023-06-01T07:23:48.234Z"
      },
      {
        "duration": 0,
        "start_time": "2023-06-01T07:23:48.235Z"
      },
      {
        "duration": 1,
        "start_time": "2023-06-01T07:23:48.236Z"
      },
      {
        "duration": 0,
        "start_time": "2023-06-01T07:23:48.238Z"
      },
      {
        "duration": 0,
        "start_time": "2023-06-01T07:23:48.239Z"
      },
      {
        "duration": 0,
        "start_time": "2023-06-01T07:23:48.240Z"
      },
      {
        "duration": 0,
        "start_time": "2023-06-01T07:23:48.242Z"
      },
      {
        "duration": 0,
        "start_time": "2023-06-01T07:23:48.242Z"
      },
      {
        "duration": 0,
        "start_time": "2023-06-01T07:23:48.245Z"
      },
      {
        "duration": 1,
        "start_time": "2023-06-01T07:23:48.247Z"
      },
      {
        "duration": 0,
        "start_time": "2023-06-01T07:23:48.249Z"
      },
      {
        "duration": 0,
        "start_time": "2023-06-01T07:23:48.251Z"
      },
      {
        "duration": 0,
        "start_time": "2023-06-01T07:23:48.252Z"
      },
      {
        "duration": 0,
        "start_time": "2023-06-01T07:23:48.253Z"
      },
      {
        "duration": 0,
        "start_time": "2023-06-01T07:23:48.255Z"
      },
      {
        "duration": 0,
        "start_time": "2023-06-01T07:23:48.256Z"
      },
      {
        "duration": 0,
        "start_time": "2023-06-01T07:23:48.257Z"
      },
      {
        "duration": 0,
        "start_time": "2023-06-01T07:23:48.259Z"
      },
      {
        "duration": 0,
        "start_time": "2023-06-01T07:23:48.260Z"
      },
      {
        "duration": 0,
        "start_time": "2023-06-01T07:23:48.261Z"
      },
      {
        "duration": 0,
        "start_time": "2023-06-01T07:23:48.262Z"
      },
      {
        "duration": 0,
        "start_time": "2023-06-01T07:23:48.263Z"
      },
      {
        "duration": 0,
        "start_time": "2023-06-01T07:23:48.308Z"
      },
      {
        "duration": 0,
        "start_time": "2023-06-01T07:23:48.310Z"
      },
      {
        "duration": 0,
        "start_time": "2023-06-01T07:23:48.311Z"
      },
      {
        "duration": 0,
        "start_time": "2023-06-01T07:23:48.312Z"
      },
      {
        "duration": 0,
        "start_time": "2023-06-01T07:23:48.315Z"
      },
      {
        "duration": 0,
        "start_time": "2023-06-01T07:23:48.316Z"
      },
      {
        "duration": 0,
        "start_time": "2023-06-01T07:23:48.317Z"
      },
      {
        "duration": 0,
        "start_time": "2023-06-01T07:23:48.319Z"
      },
      {
        "duration": 0,
        "start_time": "2023-06-01T07:23:48.321Z"
      },
      {
        "duration": 0,
        "start_time": "2023-06-01T07:23:48.321Z"
      },
      {
        "duration": 0,
        "start_time": "2023-06-01T07:23:48.323Z"
      },
      {
        "duration": 7,
        "start_time": "2023-06-01T07:25:26.759Z"
      },
      {
        "duration": 3,
        "start_time": "2023-06-01T07:25:27.318Z"
      },
      {
        "duration": 5,
        "start_time": "2023-06-01T07:25:28.170Z"
      },
      {
        "duration": 69,
        "start_time": "2023-06-01T07:25:29.062Z"
      },
      {
        "duration": 9,
        "start_time": "2023-06-01T07:26:06.406Z"
      },
      {
        "duration": 3,
        "start_time": "2023-06-01T07:26:06.944Z"
      },
      {
        "duration": 5,
        "start_time": "2023-06-01T07:26:07.854Z"
      },
      {
        "duration": 66,
        "start_time": "2023-06-01T07:26:08.806Z"
      },
      {
        "duration": 7,
        "start_time": "2023-06-01T07:26:21.943Z"
      },
      {
        "duration": 4,
        "start_time": "2023-06-01T07:26:22.481Z"
      },
      {
        "duration": 5,
        "start_time": "2023-06-01T07:26:25.992Z"
      },
      {
        "duration": 97,
        "start_time": "2023-06-01T07:26:27.303Z"
      },
      {
        "duration": 6,
        "start_time": "2023-06-01T07:26:31.762Z"
      },
      {
        "duration": 4,
        "start_time": "2023-06-01T07:26:32.150Z"
      },
      {
        "duration": 5,
        "start_time": "2023-06-01T07:26:32.960Z"
      },
      {
        "duration": 85,
        "start_time": "2023-06-01T07:26:33.788Z"
      },
      {
        "duration": 8,
        "start_time": "2023-06-01T07:26:50.646Z"
      },
      {
        "duration": 3,
        "start_time": "2023-06-01T07:26:50.992Z"
      },
      {
        "duration": 7,
        "start_time": "2023-06-01T07:26:51.759Z"
      },
      {
        "duration": 197,
        "start_time": "2023-06-01T07:26:52.456Z"
      },
      {
        "duration": 3,
        "start_time": "2023-06-01T07:28:13.498Z"
      },
      {
        "duration": 47,
        "start_time": "2023-06-01T07:28:14.800Z"
      },
      {
        "duration": 10,
        "start_time": "2023-06-01T07:28:15.704Z"
      },
      {
        "duration": 2,
        "start_time": "2023-06-01T07:28:16.600Z"
      },
      {
        "duration": 3,
        "start_time": "2023-06-01T07:28:17.416Z"
      },
      {
        "duration": 556,
        "start_time": "2023-06-01T07:28:18.585Z"
      },
      {
        "duration": 12,
        "start_time": "2023-06-01T07:28:20.464Z"
      },
      {
        "duration": 7,
        "start_time": "2023-06-01T07:28:21.793Z"
      },
      {
        "duration": 780,
        "start_time": "2023-06-01T07:28:22.457Z"
      },
      {
        "duration": 563,
        "start_time": "2023-06-01T07:28:25.018Z"
      },
      {
        "duration": 3,
        "start_time": "2023-06-01T07:28:29.788Z"
      },
      {
        "duration": 3,
        "start_time": "2023-06-01T07:28:31.372Z"
      },
      {
        "duration": 9,
        "start_time": "2023-06-01T07:28:31.885Z"
      },
      {
        "duration": 2,
        "start_time": "2023-06-01T07:28:33.656Z"
      },
      {
        "duration": 7,
        "start_time": "2023-06-01T07:28:35.090Z"
      },
      {
        "duration": 4,
        "start_time": "2023-06-01T07:28:35.816Z"
      },
      {
        "duration": 5,
        "start_time": "2023-06-01T07:28:36.912Z"
      },
      {
        "duration": 68,
        "start_time": "2023-06-01T07:28:37.856Z"
      },
      {
        "duration": 7,
        "start_time": "2023-06-01T07:29:27.554Z"
      },
      {
        "duration": 2,
        "start_time": "2023-06-01T07:29:29.987Z"
      },
      {
        "duration": 4,
        "start_time": "2023-06-01T07:29:30.395Z"
      },
      {
        "duration": 4,
        "start_time": "2023-06-01T07:29:31.626Z"
      },
      {
        "duration": 142,
        "start_time": "2023-06-01T07:29:32.684Z"
      },
      {
        "duration": 2,
        "start_time": "2023-06-01T07:29:56.026Z"
      },
      {
        "duration": 6,
        "start_time": "2023-06-01T07:29:57.201Z"
      },
      {
        "duration": 3,
        "start_time": "2023-06-01T07:29:57.591Z"
      },
      {
        "duration": 6,
        "start_time": "2023-06-01T07:29:58.745Z"
      },
      {
        "duration": 136,
        "start_time": "2023-06-01T07:30:00.601Z"
      },
      {
        "duration": 16,
        "start_time": "2023-06-01T07:30:50.523Z"
      },
      {
        "duration": 30,
        "start_time": "2023-06-01T07:30:51.419Z"
      },
      {
        "duration": 3,
        "start_time": "2023-06-01T07:30:52.746Z"
      },
      {
        "duration": 9,
        "start_time": "2023-06-01T07:30:53.907Z"
      },
      {
        "duration": 4,
        "start_time": "2023-06-01T07:30:54.561Z"
      },
      {
        "duration": 7,
        "start_time": "2023-06-01T07:30:56.089Z"
      },
      {
        "duration": 10,
        "start_time": "2023-06-01T07:30:57.099Z"
      },
      {
        "duration": 2,
        "start_time": "2023-06-01T07:31:47.945Z"
      },
      {
        "duration": 3,
        "start_time": "2023-06-01T07:31:50.196Z"
      },
      {
        "duration": 6,
        "start_time": "2023-06-01T07:31:56.763Z"
      },
      {
        "duration": 183,
        "start_time": "2023-06-01T07:34:09.656Z"
      },
      {
        "duration": 46,
        "start_time": "2023-06-01T07:34:10.309Z"
      },
      {
        "duration": 9,
        "start_time": "2023-06-01T07:34:10.853Z"
      },
      {
        "duration": 3,
        "start_time": "2023-06-01T07:34:11.397Z"
      },
      {
        "duration": 4,
        "start_time": "2023-06-01T07:34:11.988Z"
      },
      {
        "duration": 624,
        "start_time": "2023-06-01T07:34:12.860Z"
      },
      {
        "duration": 12,
        "start_time": "2023-06-01T07:34:13.725Z"
      },
      {
        "duration": 7,
        "start_time": "2023-06-01T07:34:14.549Z"
      },
      {
        "duration": 632,
        "start_time": "2023-06-01T07:34:14.851Z"
      },
      {
        "duration": 574,
        "start_time": "2023-06-01T07:34:15.485Z"
      },
      {
        "duration": 3,
        "start_time": "2023-06-01T07:34:17.885Z"
      },
      {
        "duration": 17,
        "start_time": "2023-06-01T07:34:18.916Z"
      },
      {
        "duration": 23,
        "start_time": "2023-06-01T07:34:19.516Z"
      },
      {
        "duration": 3,
        "start_time": "2023-06-01T07:34:20.724Z"
      },
      {
        "duration": 8,
        "start_time": "2023-06-01T07:34:21.743Z"
      },
      {
        "duration": 4,
        "start_time": "2023-06-01T07:34:22.153Z"
      },
      {
        "duration": 6,
        "start_time": "2023-06-01T07:34:23.157Z"
      },
      {
        "duration": 14,
        "start_time": "2023-06-01T07:34:23.967Z"
      },
      {
        "duration": 3,
        "start_time": "2023-06-01T07:34:24.781Z"
      },
      {
        "duration": 3,
        "start_time": "2023-06-01T07:34:25.591Z"
      },
      {
        "duration": 5,
        "start_time": "2023-06-01T07:34:28.597Z"
      },
      {
        "duration": 2,
        "start_time": "2023-06-01T07:34:34.859Z"
      },
      {
        "duration": 80,
        "start_time": "2023-06-01T07:52:17.115Z"
      },
      {
        "duration": 3,
        "start_time": "2023-06-01T07:52:20.505Z"
      },
      {
        "duration": 7,
        "start_time": "2023-06-01T07:52:21.593Z"
      },
      {
        "duration": 4,
        "start_time": "2023-06-01T07:52:24.146Z"
      },
      {
        "duration": 4,
        "start_time": "2023-06-01T07:52:53.705Z"
      },
      {
        "duration": 11,
        "start_time": "2023-06-01T07:53:07.546Z"
      },
      {
        "duration": 3,
        "start_time": "2023-06-01T07:53:49.722Z"
      },
      {
        "duration": 5,
        "start_time": "2023-06-01T07:53:53.188Z"
      },
      {
        "duration": 2,
        "start_time": "2023-06-01T07:53:54.995Z"
      },
      {
        "duration": 3,
        "start_time": "2023-06-01T07:53:56.202Z"
      },
      {
        "duration": 6,
        "start_time": "2023-06-01T07:53:56.980Z"
      },
      {
        "duration": 4,
        "start_time": "2023-06-01T07:53:58.154Z"
      },
      {
        "duration": 8,
        "start_time": "2023-06-01T07:53:59.732Z"
      },
      {
        "duration": 13,
        "start_time": "2023-06-01T07:54:04.458Z"
      },
      {
        "duration": 3,
        "start_time": "2023-06-01T07:54:31.626Z"
      },
      {
        "duration": 5,
        "start_time": "2023-06-01T07:54:34.403Z"
      },
      {
        "duration": 3,
        "start_time": "2023-06-01T07:54:35.506Z"
      },
      {
        "duration": 3,
        "start_time": "2023-06-01T07:54:36.581Z"
      },
      {
        "duration": 6,
        "start_time": "2023-06-01T07:54:37.227Z"
      },
      {
        "duration": 4,
        "start_time": "2023-06-01T07:54:39.078Z"
      },
      {
        "duration": 4,
        "start_time": "2023-06-01T07:54:41.506Z"
      },
      {
        "duration": 2,
        "start_time": "2023-06-01T07:54:59.194Z"
      },
      {
        "duration": 4,
        "start_time": "2023-06-01T07:55:00.884Z"
      },
      {
        "duration": 3,
        "start_time": "2023-06-01T07:55:01.954Z"
      },
      {
        "duration": 1264,
        "start_time": "2023-06-01T07:55:02.259Z"
      },
      {
        "duration": 5,
        "start_time": "2023-06-01T07:56:27.016Z"
      },
      {
        "duration": 188,
        "start_time": "2023-06-01T07:56:27.555Z"
      },
      {
        "duration": 2,
        "start_time": "2023-06-01T07:57:24.494Z"
      },
      {
        "duration": 2,
        "start_time": "2023-06-01T07:57:25.672Z"
      },
      {
        "duration": 191,
        "start_time": "2023-06-01T07:57:26.884Z"
      },
      {
        "duration": 3,
        "start_time": "2023-06-01T07:57:30.789Z"
      },
      {
        "duration": 5,
        "start_time": "2023-06-01T07:57:31.245Z"
      },
      {
        "duration": 2,
        "start_time": "2023-06-01T07:57:32.047Z"
      },
      {
        "duration": 1864517,
        "start_time": "2023-06-01T07:57:33.700Z"
      },
      {
        "duration": 7,
        "start_time": "2023-06-01T08:28:38.218Z"
      },
      {
        "duration": 99238,
        "start_time": "2023-06-01T08:28:38.226Z"
      },
      {
        "duration": 2,
        "start_time": "2023-06-01T08:30:17.466Z"
      },
      {
        "duration": 46,
        "start_time": "2023-06-01T08:30:17.469Z"
      },
      {
        "duration": 37,
        "start_time": "2023-06-01T08:30:17.516Z"
      },
      {
        "duration": 22778,
        "start_time": "2023-06-01T08:30:17.555Z"
      },
      {
        "duration": 3,
        "start_time": "2023-06-01T08:30:40.335Z"
      },
      {
        "duration": 1225,
        "start_time": "2023-06-01T08:30:40.339Z"
      },
      {
        "duration": 2,
        "start_time": "2023-06-01T08:30:41.566Z"
      },
      {
        "duration": 10,
        "start_time": "2023-06-01T08:30:41.569Z"
      },
      {
        "duration": 16,
        "start_time": "2023-06-01T08:30:41.580Z"
      },
      {
        "duration": 239413,
        "start_time": "2023-06-01T08:30:41.597Z"
      },
      {
        "duration": 4,
        "start_time": "2023-06-01T08:34:41.011Z"
      },
      {
        "duration": 48209,
        "start_time": "2023-06-01T08:34:41.016Z"
      },
      {
        "duration": 4,
        "start_time": "2023-06-01T08:35:29.226Z"
      },
      {
        "duration": 4,
        "start_time": "2023-06-01T08:35:29.307Z"
      },
      {
        "duration": 24,
        "start_time": "2023-06-01T08:35:29.313Z"
      },
      {
        "duration": 33,
        "start_time": "2023-06-01T08:35:29.339Z"
      },
      {
        "duration": 34,
        "start_time": "2023-06-01T08:35:29.374Z"
      },
      {
        "duration": 8,
        "start_time": "2023-06-01T08:35:29.410Z"
      },
      {
        "duration": 7,
        "start_time": "2023-06-01T08:35:29.420Z"
      },
      {
        "duration": 7,
        "start_time": "2023-06-01T08:35:29.428Z"
      },
      {
        "duration": 8,
        "start_time": "2023-06-01T08:35:29.437Z"
      },
      {
        "duration": 7,
        "start_time": "2023-06-01T08:35:29.446Z"
      },
      {
        "duration": 9,
        "start_time": "2023-06-01T08:35:29.455Z"
      },
      {
        "duration": 11,
        "start_time": "2023-06-01T08:35:29.506Z"
      },
      {
        "duration": 3,
        "start_time": "2023-06-01T08:53:14.073Z"
      },
      {
        "duration": 8,
        "start_time": "2023-06-01T08:53:14.702Z"
      },
      {
        "duration": 2973,
        "start_time": "2023-06-01T15:18:56.274Z"
      },
      {
        "duration": 58,
        "start_time": "2023-06-01T15:18:59.249Z"
      },
      {
        "duration": 11,
        "start_time": "2023-06-01T15:18:59.310Z"
      },
      {
        "duration": 5,
        "start_time": "2023-06-01T15:18:59.323Z"
      },
      {
        "duration": 12,
        "start_time": "2023-06-01T15:18:59.330Z"
      },
      {
        "duration": 737,
        "start_time": "2023-06-01T15:18:59.344Z"
      },
      {
        "duration": 14,
        "start_time": "2023-06-01T15:19:00.082Z"
      },
      {
        "duration": 30,
        "start_time": "2023-06-01T15:19:00.098Z"
      },
      {
        "duration": 792,
        "start_time": "2023-06-01T15:19:00.129Z"
      },
      {
        "duration": 3035,
        "start_time": "2023-06-01T15:27:31.091Z"
      },
      {
        "duration": 59,
        "start_time": "2023-06-01T15:27:34.128Z"
      },
      {
        "duration": 13,
        "start_time": "2023-06-01T15:27:34.189Z"
      },
      {
        "duration": 3,
        "start_time": "2023-06-01T15:27:34.203Z"
      },
      {
        "duration": 16,
        "start_time": "2023-06-01T15:27:34.208Z"
      },
      {
        "duration": 752,
        "start_time": "2023-06-01T15:27:34.225Z"
      },
      {
        "duration": 14,
        "start_time": "2023-06-01T15:27:34.978Z"
      },
      {
        "duration": 7,
        "start_time": "2023-06-01T15:27:34.994Z"
      },
      {
        "duration": 791,
        "start_time": "2023-06-01T15:27:35.002Z"
      },
      {
        "duration": 775,
        "start_time": "2023-06-01T15:27:35.794Z"
      },
      {
        "duration": 3,
        "start_time": "2023-06-01T15:27:36.576Z"
      },
      {
        "duration": 23,
        "start_time": "2023-06-01T15:27:36.581Z"
      },
      {
        "duration": 25,
        "start_time": "2023-06-01T15:27:36.606Z"
      },
      {
        "duration": 3,
        "start_time": "2023-06-01T15:27:36.634Z"
      },
      {
        "duration": 11,
        "start_time": "2023-06-01T15:27:36.639Z"
      },
      {
        "duration": 27,
        "start_time": "2023-06-01T15:27:36.651Z"
      },
      {
        "duration": 11,
        "start_time": "2023-06-01T15:27:36.680Z"
      },
      {
        "duration": 16,
        "start_time": "2023-06-01T15:27:36.693Z"
      },
      {
        "duration": 3,
        "start_time": "2023-06-01T15:27:36.711Z"
      },
      {
        "duration": 14,
        "start_time": "2023-06-01T15:27:36.715Z"
      },
      {
        "duration": 10,
        "start_time": "2023-06-01T15:27:36.732Z"
      },
      {
        "duration": 3,
        "start_time": "2023-06-01T15:27:36.744Z"
      },
      {
        "duration": 6,
        "start_time": "2023-06-01T15:27:36.749Z"
      },
      {
        "duration": 24,
        "start_time": "2023-06-01T15:27:36.757Z"
      },
      {
        "duration": 9,
        "start_time": "2023-06-01T15:27:36.784Z"
      },
      {
        "duration": 1637,
        "start_time": "2023-06-01T21:30:48.848Z"
      },
      {
        "duration": 130,
        "start_time": "2023-06-01T21:35:49.576Z"
      },
      {
        "duration": 4,
        "start_time": "2023-06-01T21:36:06.896Z"
      },
      {
        "duration": 123,
        "start_time": "2023-06-01T21:36:08.282Z"
      },
      {
        "duration": 11,
        "start_time": "2023-06-01T21:36:09.396Z"
      },
      {
        "duration": 3,
        "start_time": "2023-06-01T21:36:10.156Z"
      },
      {
        "duration": 4,
        "start_time": "2023-06-01T21:36:11.088Z"
      },
      {
        "duration": 615,
        "start_time": "2023-06-01T21:36:12.117Z"
      },
      {
        "duration": 12,
        "start_time": "2023-06-01T21:36:14.336Z"
      },
      {
        "duration": 7,
        "start_time": "2023-06-01T21:36:16.037Z"
      },
      {
        "duration": 721,
        "start_time": "2023-06-01T21:36:16.456Z"
      },
      {
        "duration": 593,
        "start_time": "2023-06-01T21:36:18.496Z"
      },
      {
        "duration": 3,
        "start_time": "2023-06-01T21:36:39.071Z"
      },
      {
        "duration": 14,
        "start_time": "2023-06-01T21:36:41.324Z"
      },
      {
        "duration": 23,
        "start_time": "2023-06-01T21:36:41.695Z"
      },
      {
        "duration": 3,
        "start_time": "2023-06-01T21:36:44.535Z"
      },
      {
        "duration": 8,
        "start_time": "2023-06-01T21:36:47.796Z"
      },
      {
        "duration": 3,
        "start_time": "2023-06-01T21:36:48.248Z"
      },
      {
        "duration": 6,
        "start_time": "2023-06-01T21:36:49.297Z"
      },
      {
        "duration": 15,
        "start_time": "2023-06-01T21:36:50.878Z"
      },
      {
        "duration": 2,
        "start_time": "2023-06-01T21:36:52.455Z"
      },
      {
        "duration": 2,
        "start_time": "2023-06-01T21:36:54.277Z"
      },
      {
        "duration": 5,
        "start_time": "2023-06-01T21:36:57.496Z"
      },
      {
        "duration": 2,
        "start_time": "2023-06-01T21:36:58.557Z"
      },
      {
        "duration": 2,
        "start_time": "2023-06-01T21:36:59.596Z"
      },
      {
        "duration": 2,
        "start_time": "2023-06-01T21:37:00.336Z"
      },
      {
        "duration": 2,
        "start_time": "2023-06-01T21:37:01.684Z"
      },
      {
        "duration": 368,
        "start_time": "2023-06-01T21:37:04.055Z"
      },
      {
        "duration": 2,
        "start_time": "2023-06-01T21:37:06.996Z"
      },
      {
        "duration": 244,
        "start_time": "2023-06-01T21:37:35.677Z"
      },
      {
        "duration": 3,
        "start_time": "2023-06-01T21:37:37.076Z"
      }
    ],
    "kernelspec": {
      "display_name": "Python 3 (ipykernel)",
      "language": "python",
      "name": "python3"
    },
    "language_info": {
      "codemirror_mode": {
        "name": "ipython",
        "version": 3
      },
      "file_extension": ".py",
      "mimetype": "text/x-python",
      "name": "python",
      "nbconvert_exporter": "python",
      "pygments_lexer": "ipython3",
      "version": "3.9.5"
    },
    "toc": {
      "base_numbering": 1,
      "nav_menu": {},
      "number_sections": true,
      "sideBar": true,
      "skip_h1_title": true,
      "title_cell": "Содержание",
      "title_sidebar": "Contents",
      "toc_cell": true,
      "toc_position": {},
      "toc_section_display": true,
      "toc_window_display": true
    },
    "colab": {
      "provenance": []
    }
  },
  "nbformat": 4,
  "nbformat_minor": 0
}